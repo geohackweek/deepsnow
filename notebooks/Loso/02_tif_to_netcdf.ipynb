{
 "cells": [
  {
   "cell_type": "code",
   "execution_count": 2,
   "metadata": {},
   "outputs": [],
   "source": [
    "import numpy as np\n",
    "import pandas as pd\n",
    "import os\n",
    "import glob\n",
    "\n",
    "import netCDF4 as nc\n",
    "import subprocess as sp"
   ]
  },
  {
   "cell_type": "code",
   "execution_count": 3,
   "metadata": {},
   "outputs": [],
   "source": [
    "# from config import site_name\n",
    "SITENAME = 'tuolumne'\n",
    "name = 'snowdepth'\n",
    "formato = 'tifs'\n",
    "years = [2015,2017]"
   ]
  },
  {
   "cell_type": "code",
   "execution_count": 4,
   "metadata": {},
   "outputs": [],
   "source": [
    "# ------------------------------------------------------------------------------\n",
    "# Basic Functions\n",
    "# Function 1 - clip tif to shape\n",
    "\n",
    "def tif_to_nc(input, output, shp=None):\n",
    "\n",
    "    # if shp is None: #no shapefile, this just converts tif to netCDF\n",
    "    #     sp.check_output(\"gdal_translate -of netCDF {} {}\".format(input, output), shell=True)\n",
    "\n",
    "    if shp != None:    # if there is a shapefile, generate tmp_output, clip it, call it input\n",
    "        output_tmp = output.split('.')[0]+'_tmp.tif' #parses output name and adds tmp.tif file\n",
    "        sp.check_output(\"gdalwarp -of GTiff -dstnodata None -cutline {} -crop_to_cutline {} {}\".format(shp, input, output_tmp), shell=True)\n",
    "    else: #if no shapefile is called, just convert to netCDF\n",
    "        output_tmp = input\n",
    "\n",
    "    sp.check_output(\"gdal_translate -of netCDF {} {}\".format(output_tmp, output), shell=True)\n",
    "\n",
    "    if shp != None:\n",
    "        sp.check_output('rm {}'.format(output_tmp), shell= True) #removes output_tmp items"
   ]
  },
  {
   "cell_type": "markdown",
   "metadata": {},
   "source": [
    "## Call Functions"
   ]
  },
  {
   "cell_type": "code",
   "execution_count": 12,
   "metadata": {},
   "outputs": [],
   "source": [
    "for year in sorted(years):\n",
    "    path_to_data = f'/srv/shared/deep_stac/data/{name}/{formato}/{year}'\n",
    "    files = os.listdir(path_to_data)\n",
    "\n",
    "    for f in files:\n",
    "        llave = f.split('_')[0]\n",
    "        new_path = f'/srv/shared/deep_stac/data/{name}/netcdf/{year}'\n",
    "        out_fname = os.path.join(new_path, f'{llave}_SUPERsnow_depth_3m_int.nc')\n",
    "        # CALL FUNCTION\n",
    "        tif_to_nc(os.path.join(path_to_data, f), out_fname, shp=None)"
   ]
  }
 ],
 "metadata": {
  "kernelspec": {
   "display_name": "Python [conda env:notebook] *",
   "language": "python",
   "name": "conda-env-notebook-py"
  },
  "language_info": {
   "codemirror_mode": {
    "name": "ipython",
    "version": 3
   },
   "file_extension": ".py",
   "mimetype": "text/x-python",
   "name": "python",
   "nbconvert_exporter": "python",
   "pygments_lexer": "ipython3",
   "version": "3.7.3"
  }
 },
 "nbformat": 4,
 "nbformat_minor": 4
}
