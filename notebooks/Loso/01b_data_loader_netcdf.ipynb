{
 "cells": [
  {
   "cell_type": "markdown",
   "metadata": {},
   "source": [
    "# Load Modules and File Paths"
   ]
  },
  {
   "cell_type": "code",
   "execution_count": 1,
   "metadata": {},
   "outputs": [
    {
     "name": "stderr",
     "output_type": "stream",
     "text": [
      "/srv/conda/envs/notebook/lib/python3.7/site-packages/ipykernel_launcher.py:10: MatplotlibDeprecationWarning: \n",
      "The text.latex.unicode rcparam was deprecated in Matplotlib 3.0 and will be removed in 3.2.\n",
      "  # Remove the CWD from sys.path while we load stuff.\n"
     ]
    },
    {
     "ename": "ModuleNotFoundError",
     "evalue": "No module named 'utils'",
     "output_type": "error",
     "traceback": [
      "\u001b[0;31m---------------------------------------------------------------------------\u001b[0m",
      "\u001b[0;31mModuleNotFoundError\u001b[0m                       Traceback (most recent call last)",
      "\u001b[0;32m<ipython-input-1-e97740a9dbd4>\u001b[0m in \u001b[0;36m<module>\u001b[0;34m\u001b[0m\n\u001b[1;32m     34\u001b[0m \u001b[0;32mif\u001b[0m \u001b[0mabspath\u001b[0m\u001b[0;34m(\u001b[0m\u001b[0;34m'../utils/'\u001b[0m\u001b[0;34m)\u001b[0m \u001b[0;32mnot\u001b[0m \u001b[0;32min\u001b[0m \u001b[0msys\u001b[0m\u001b[0;34m.\u001b[0m\u001b[0mpath\u001b[0m\u001b[0;34m:\u001b[0m\u001b[0;34m\u001b[0m\u001b[0;34m\u001b[0m\u001b[0m\n\u001b[1;32m     35\u001b[0m     \u001b[0msys\u001b[0m\u001b[0;34m.\u001b[0m\u001b[0mpath\u001b[0m\u001b[0;34m.\u001b[0m\u001b[0mappend\u001b[0m\u001b[0;34m(\u001b[0m\u001b[0mabspath\u001b[0m\u001b[0;34m(\u001b[0m\u001b[0;34m'../utils/'\u001b[0m\u001b[0;34m)\u001b[0m\u001b[0;34m)\u001b[0m\u001b[0;34m\u001b[0m\u001b[0;34m\u001b[0m\u001b[0m\n\u001b[0;32m---> 36\u001b[0;31m \u001b[0;32mfrom\u001b[0m \u001b[0mutils\u001b[0m \u001b[0;32mimport\u001b[0m \u001b[0mGetExtent\u001b[0m\u001b[0;34m\u001b[0m\u001b[0;34m\u001b[0m\u001b[0m\n\u001b[0m",
      "\u001b[0;31mModuleNotFoundError\u001b[0m: No module named 'utils'"
     ]
    }
   ],
   "source": [
    "import os\n",
    "import sys\n",
    "import numpy as np\n",
    "import pandas as pd\n",
    "import math\n",
    "from os.path import abspath\n",
    "import matplotlib.pyplot as plt\n",
    "import matplotlib\n",
    "from mpl_toolkits.axes_grid1 import make_axes_locatable\n",
    "matplotlib.rcParams['text.latex.unicode']=False\n",
    "import datetime\n",
    "from operator import add\n",
    "import pickle\n",
    "from sklearn.impute import SimpleImputer as Imputer\n",
    "from osgeo import gdal\n",
    "import xarray as xr\n",
    "from affine import Affine\n",
    "import matplotlib.pyplot as plt\n",
    "from mpl_toolkits.axes_grid1 import make_axes_locatable\n",
    "import numpy as np\n",
    "# import richdem as rd\n",
    "\n",
    "imp = Imputer(strategy='mean')\n",
    "\n",
    "# --------------------- #\n",
    "# Lets Rips Some Treads #\n",
    "# --------------------- #\n",
    "\n",
    "from joblib import Parallel, delayed\n",
    "import multiprocessing\n",
    "num_cores = multiprocessing.cpu_count()\n",
    "\n",
    "\n",
    "if abspath('../utils/') not in sys.path:\n",
    "    sys.path.append(abspath('../utils/'))\n",
    "from utils import GetExtent"
   ]
  },
  {
   "cell_type": "code",
   "execution_count": 2,
   "metadata": {},
   "outputs": [],
   "source": [
    "SITENAME = 'tuolumne'\n",
    "name = 'snowdepth'\n",
    "formato = 'netcdf'\n",
    "YEAR = '2015'\n",
    "path_to_data = f'/srv/shared/deep_stac/data/{name}/{formato}/{YEAR}'\n",
    "path_to_topo = '/srv/shared/deep_stac/data/topo.nc'\n",
    "files = os.listdir(path_to_data)\n",
    "files = np.sort([f for f in files if 'int' in f])\n",
    "fname_list = [os.path.join(path_to_data, f) for f in np.sort(files)]\n",
    "dates = [pd.to_datetime(d.split('_')[0]).date() for d in files]"
   ]
  },
  {
   "cell_type": "markdown",
   "metadata": {},
   "source": [
    "### Read in Lidar and Topo Data"
   ]
  },
  {
   "cell_type": "code",
   "execution_count": 3,
   "metadata": {},
   "outputs": [
    {
     "name": "stderr",
     "output_type": "stream",
     "text": [
      "/srv/conda/envs/notebook/lib/python3.7/site-packages/xarray/backends/api.py:783: FutureWarning: In xarray version 0.13 `auto_combine` will be deprecated.\n",
      "  coords=coords)\n",
      "/srv/conda/envs/notebook/lib/python3.7/site-packages/xarray/backends/api.py:783: FutureWarning: Also `open_mfdataset` will no longer accept a `concat_dim` argument.\n",
      "To get equivalent behaviour from now on please use the new\n",
      "`combine_nested` function instead (or the `combine='nested'` option to\n",
      "`open_mfdataset`).The datasets supplied do not have global dimension coordinates. In\n",
      "future, to continue concatenating without supplying dimension\n",
      "coordinates, please use the new `combine_nested` function (or the\n",
      "`combine='nested'` option to open_mfdataset.\n",
      "  coords=coords)\n"
     ]
    }
   ],
   "source": [
    "# --------------- #\n",
    "# Read Lidar Data #\n",
    "# --------------- #\n",
    "ds = xr.open_mfdataset(fname_list, concat_dim='flight_date', chunks={'x':1000, 'y':1000})\n",
    "ds.close()\n",
    "\n",
    "dtopo = xr.open_dataset(path_to_topo, chunks={'x':1000, 'y':1000})\n",
    "dtopo.close()"
   ]
  },
  {
   "cell_type": "markdown",
   "metadata": {},
   "source": [
    "### Sub select features to include to the dem. "
   ]
  },
  {
   "cell_type": "code",
   "execution_count": 4,
   "metadata": {},
   "outputs": [],
   "source": [
    "add_to_lidar = ['dem','veg_height','mask']\n",
    "dtopo = dtopo[add_to_lidar]"
   ]
  },
  {
   "cell_type": "code",
   "execution_count": 5,
   "metadata": {},
   "outputs": [],
   "source": [
    "# -------------------- #\n",
    "# Remove This features #\n",
    "# -------------------- #\n",
    "\n",
    "ds = ds.drop('transverse_mercator')\n",
    "\n",
    "dtopo = dtopo.expand_dims('flight_date')"
   ]
  },
  {
   "cell_type": "markdown",
   "metadata": {},
   "source": [
    "### Print Data Details"
   ]
  },
  {
   "cell_type": "code",
   "execution_count": 7,
   "metadata": {},
   "outputs": [
    {
     "name": "stdout",
     "output_type": "stream",
     "text": [
      "TOPO: \n",
      "\n",
      " <xarray.Dataset>\n",
      "Dimensions:     (flight_date: 1, x: 17569, y: 17002)\n",
      "Coordinates:\n",
      "  * x           (x) float32 254007.0 254010.0 254013.0 ... 306708.0 306711.0\n",
      "  * y           (y) float32 4230327.0 4230324.0 ... 4179327.0 4179324.0\n",
      "Dimensions without coordinates: flight_date\n",
      "Data variables:\n",
      "    dem         (flight_date, y, x) float32 dask.array<shape=(1, 17002, 17569), chunksize=(1, 1000, 1000)>\n",
      "    veg_height  (flight_date, y, x) float32 dask.array<shape=(1, 17002, 17569), chunksize=(1, 1000, 1000)>\n",
      "    mask        (flight_date, y, x) uint8 dask.array<shape=(1, 17002, 17569), chunksize=(1, 1000, 1000)>\n",
      "Attributes:\n",
      "    last_modified:       [2019-08-08 17:17:16] Data added or updated\n",
      "    Conventions:         CF-1.6\n",
      "    dateCreated:         2019-08-08 17:17:34\n",
      "    Title:               Topographic Images for SMRF/AWSM\n",
      "    history:             [2019-08-08 17:17:34] Create netCDF4 file using Basi...\n",
      "    institution:         USDA Agricultural Research Service, Northwest Waters...\n",
      "    generation_command:  /usr/local/bin/basin_setup -f corrected_tuolumne_sub... \n",
      "\n",
      "\n",
      "Lidar:\n",
      "\n",
      " <xarray.Dataset>\n",
      "Dimensions:  (flight_date: 10, x: 17569, y: 17002)\n",
      "Coordinates:\n",
      "  * x        (x) float64 2.54e+05 2.54e+05 2.54e+05 ... 3.067e+05 3.067e+05\n",
      "  * y        (y) float64 4.179e+06 4.179e+06 4.179e+06 ... 4.23e+06 4.23e+06\n",
      "Dimensions without coordinates: flight_date\n",
      "Data variables:\n",
      "    Band1    (flight_date, y, x) float32 dask.array<shape=(10, 17002, 17569), chunksize=(1, 1000, 1000)>\n",
      "Attributes:\n",
      "    GDAL_AREA_OR_POINT:  Area\n",
      "    Conventions:         CF-1.5\n",
      "    GDAL:                GDAL 2.4.1, released 2019/03/15\n",
      "    history:             Wed Sep 11 15:42:33 2019: GDAL CreateCopy( /srv/shar...\n"
     ]
    }
   ],
   "source": [
    "print('TOPO: \\n\\n',dtopo, '\\n\\n\\nLidar:\\n\\n', ds)"
   ]
  },
  {
   "cell_type": "code",
   "execution_count": null,
   "metadata": {},
   "outputs": [],
   "source": [
    "ds['date'] = (['date'], dates)\n",
    "ds = ds.assign_coords(date=ds.date)\n",
    "vd = ds.Band1.std(dim='flight_date')\n",
    "\n",
    "vd = np.where(vd > 0.01, vd, np.nan)"
   ]
  },
  {
   "cell_type": "code",
   "execution_count": null,
   "metadata": {},
   "outputs": [],
   "source": [
    "plt.figure(figsize=(10,15))\n",
    "ax = plt.subplot(1,1,1)\n",
    "plt.imshow(vd, origin='lower', cmap='jet')#, vmin=1, vmax=200.0)\n",
    "plt.colorbar()\n",
    "# create an axes on the right side of ax. The width of cax will be 5%\n",
    "# of ax and the padding between cax and ax will be fixed at 0.05 inch.\n",
    "divider = make_axes_locatable(ax)\n",
    "cax = divider.append_axes(\"right\", size=\"5%\", pad=0.05)\n",
    "\n",
    "plt.colorbar(im, cax=cax)"
   ]
  },
  {
   "cell_type": "code",
   "execution_count": null,
   "metadata": {},
   "outputs": [],
   "source": [
    "chks = []\n",
    "\n",
    "for chk in chks:\n",
    "    chk = range(0:1000) +_____\n",
    "    chks.append(chk)"
   ]
  },
  {
   "cell_type": "code",
   "execution_count": null,
   "metadata": {},
   "outputs": [],
   "source": [
    "boo = DS['Band1'][4,10000:14000,10000:14000]"
   ]
  },
  {
   "cell_type": "code",
   "execution_count": null,
   "metadata": {},
   "outputs": [],
   "source": [
    "boo.plot()"
   ]
  },
  {
   "cell_type": "code",
   "execution_count": null,
   "metadata": {},
   "outputs": [],
   "source": [
    "import sys\n",
    "print(boo.nbytes/1000000)"
   ]
  },
  {
   "cell_type": "code",
   "execution_count": null,
   "metadata": {},
   "outputs": [],
   "source": []
  },
  {
   "cell_type": "code",
   "execution_count": null,
   "metadata": {},
   "outputs": [],
   "source": []
  },
  {
   "cell_type": "code",
   "execution_count": null,
   "metadata": {},
   "outputs": [],
   "source": []
  }
 ],
 "metadata": {
  "kernelspec": {
   "display_name": "Python [conda env:notebook] *",
   "language": "python",
   "name": "conda-env-notebook-py"
  },
  "language_info": {
   "codemirror_mode": {
    "name": "ipython",
    "version": 3
   },
   "file_extension": ".py",
   "mimetype": "text/x-python",
   "name": "python",
   "nbconvert_exporter": "python",
   "pygments_lexer": "ipython3",
   "version": "3.7.3"
  }
 },
 "nbformat": 4,
 "nbformat_minor": 4
}
