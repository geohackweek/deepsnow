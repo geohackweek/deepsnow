{
 "cells": [
  {
   "cell_type": "code",
   "execution_count": 1,
   "metadata": {},
   "outputs": [],
   "source": [
    "import xarray as xr\n",
    "from dask.distributed import Client, progress\n",
    "import zarr"
   ]
  },
  {
   "cell_type": "code",
   "execution_count": 2,
   "metadata": {},
   "outputs": [
    {
     "data": {
      "application/vnd.jupyter.widget-view+json": {
       "model_id": "5704406b677c48169395ee774b70fa6e",
       "version_major": 2,
       "version_minor": 0
      },
      "text/plain": [
       "VBox(children=(HTML(value='<h2>KubeCluster</h2>'), HBox(children=(HTML(value='\\n<div>\\n  <style scoped>\\n    .…"
      ]
     },
     "metadata": {},
     "output_type": "display_data"
    }
   ],
   "source": [
    "from dask_kubernetes import KubeCluster\n",
    "cluster = KubeCluster(n_workers=10)\n",
    "cluster"
   ]
  },
  {
   "cell_type": "code",
   "execution_count": 3,
   "metadata": {},
   "outputs": [
    {
     "data": {
      "text/html": [
       "<table style=\"border: 2px solid white;\">\n",
       "<tr>\n",
       "<td style=\"vertical-align: top; border: 0px solid white\">\n",
       "<h3 style=\"text-align: left;\">Client</h3>\n",
       "<ul style=\"text-align: left; list-style: none; margin: 0; padding: 0;\">\n",
       "  <li><b>Scheduler: </b>tcp://192.168.19.194:37433</li>\n",
       "  <li><b>Dashboard: </b><a href='/user/aimeeb/proxy/8787/status' target='_blank'>/user/aimeeb/proxy/8787/status</a>\n",
       "</ul>\n",
       "</td>\n",
       "<td style=\"vertical-align: top; border: 0px solid white\">\n",
       "<h3 style=\"text-align: left;\">Cluster</h3>\n",
       "<ul style=\"text-align: left; list-style:none; margin: 0; padding: 0;\">\n",
       "  <li><b>Workers: </b>0</li>\n",
       "  <li><b>Cores: </b>0</li>\n",
       "  <li><b>Memory: </b>0 B</li>\n",
       "</ul>\n",
       "</td>\n",
       "</tr>\n",
       "</table>"
      ],
      "text/plain": [
       "<Client: scheduler='tcp://192.168.19.194:37433' processes=0 cores=0>"
      ]
     },
     "execution_count": 3,
     "metadata": {},
     "output_type": "execute_result"
    }
   ],
   "source": [
    "client = Client(cluster)\n",
    "client"
   ]
  },
  {
   "cell_type": "code",
   "execution_count": 28,
   "metadata": {},
   "outputs": [
    {
     "name": "stdout",
     "output_type": "stream",
     "text": [
      "['data/snowdepth/netcdf/2017/20170401_SUPERsnow_depth_3m_int.nc', 'data/snowdepth/netcdf/2017/20170502_SUPERsnow_depth_3m_int.nc', 'data/snowdepth/netcdf/2017/20170816_SUPERsnow_depth_3m_int.nc', 'data/snowdepth/netcdf/2017/20170717_SUPERsnow_depth_3m_int.nc', 'data/snowdepth/netcdf/2017/20170303_SUPERsnow_depth_3m_int.nc', 'data/snowdepth/netcdf/2017/20170604_SUPERsnow_depth_3m_int.nc', 'data/snowdepth/netcdf/2017/20170727_SUPERsnow_depth_3m_int.nc', 'data/snowdepth/netcdf/2017/20170709_SUPERsnow_depth_3m_int.nc', 'data/snowdepth/netcdf/2017/20170129_SUPERsnow_depth_3m_int.nc']\n",
      "['20170401', '20170502', '20170816', '20170717', '20170303', '20170604', '20170727', '20170709', '20170129']\n"
     ]
    },
    {
     "name": "stderr",
     "output_type": "stream",
     "text": [
      "/srv/conda/envs/notebook/lib/python3.7/site-packages/xarray/backends/api.py:783: FutureWarning: In xarray version 0.13 `auto_combine` will be deprecated.\n",
      "  coords=coords)\n",
      "/srv/conda/envs/notebook/lib/python3.7/site-packages/xarray/backends/api.py:783: FutureWarning: Also `open_mfdataset` will no longer accept a `concat_dim` argument.\n",
      "To get equivalent behaviour from now on please use the new\n",
      "`combine_nested` function instead (or the `combine='nested'` option to\n",
      "`open_mfdataset`).The datasets supplied do not have global dimension coordinates. In\n",
      "future, to continue concatenating without supplying dimension\n",
      "coordinates, please use the new `combine_nested` function (or the\n",
      "`combine='nested'` option to open_mfdataset.\n",
      "  coords=coords)\n"
     ]
    },
    {
     "data": {
      "text/plain": [
       "<xarray.Dataset>\n",
       "Dimensions:              (concat_dim: 9, x: 17569, y: 17002)\n",
       "Coordinates:\n",
       "  * x                    (x) float64 2.54e+05 2.54e+05 ... 3.067e+05 3.067e+05\n",
       "  * y                    (y) float64 4.179e+06 4.179e+06 ... 4.23e+06 4.23e+06\n",
       "  * concat_dim           (concat_dim) <U8 '20170401' '20170502' ... '20170129'\n",
       "Data variables:\n",
       "    transverse_mercator  (concat_dim) |S1 b'' b'' b'' b'' b'' b'' b'' b'' b''\n",
       "    Band1                (concat_dim, y, x) float32 dask.array<shape=(9, 17002, 17569), chunksize=(1, 1000, 1000)>\n",
       "Attributes:\n",
       "    GDAL_AREA_OR_POINT:  Area\n",
       "    Conventions:         CF-1.5\n",
       "    GDAL:                GDAL 2.4.1, released 2019/03/15\n",
       "    history:             Wed Sep 11 15:46:45 2019: GDAL CreateCopy( /srv/shar..."
      ]
     },
     "execution_count": 28,
     "metadata": {},
     "output_type": "execute_result"
    }
   ],
   "source": [
    "import os\n",
    "\n",
    "chunks = {'x': 1000, 'y': 1000}\n",
    "\n",
    "base_path = 'data/snowdepth/netcdf'\n",
    "\n",
    "concat_dim = []\n",
    "files = []\n",
    "for file in os.listdir(base_path):\n",
    "    if file.endswith('int.nc'):\n",
    "        concat_dim.append(file.split('_')[0])\n",
    "        files.append(f\"{base_path}/{file}\")\n",
    "\n",
    "print(files)\n",
    "print(concat_dim)\n",
    "ds = xr.open_mfdataset(files, chunks=chunks, concat_dim=concat_dim, parallel=True)\n",
    "ds"
   ]
  },
  {
   "cell_type": "code",
   "execution_count": 29,
   "metadata": {},
   "outputs": [
    {
     "data": {
      "text/plain": [
       "<xarray.backends.zarr.ZarrStore at 0x7ff8a13bc748>"
      ]
     },
     "execution_count": 29,
     "metadata": {},
     "output_type": "execute_result"
    }
   ],
   "source": [
    "# Write zarr to local storage\n",
    "compressor = zarr.Blosc(cname='zstd', clevel=5, shuffle=zarr.Blosc.AUTOSHUFFLE)\n",
    "encoding = {v: {'compressor': compressor} for v in ds.data_vars}\n",
    "ds.to_zarr(store='snow.zarr', mode='w', encoding=encoding)"
   ]
  },
  {
   "cell_type": "code",
   "execution_count": 49,
   "metadata": {},
   "outputs": [],
   "source": [
    "zarr_store = xr.open_zarr('snow.zarr')"
   ]
  },
  {
   "cell_type": "code",
   "execution_count": 55,
   "metadata": {},
   "outputs": [],
   "source": [
    "xmean = zarr_store.mean(dim='concat_dim')"
   ]
  },
  {
   "cell_type": "code",
   "execution_count": 57,
   "metadata": {},
   "outputs": [
    {
     "name": "stdout",
     "output_type": "stream",
     "text": [
      "[[  0.        0.        0.      ...   0.        0.        0.     ]\n",
      " [  0.        0.        0.      ...   0.        0.        0.     ]\n",
      " [  0.        0.        0.      ...   0.        0.        0.     ]\n",
      " ...\n",
      " [188.11111 205.77777 220.11111 ...   0.        0.        0.     ]\n",
      " [200.11111 209.77777 230.66667 ...   0.        0.        0.     ]\n",
      " [155.88889 171.55556 212.      ...   0.        0.        0.     ]]\n",
      "CPU times: user 8.77 s, sys: 1.79 s, total: 10.6 s\n",
      "Wall time: 27.7 s\n"
     ]
    }
   ],
   "source": [
    "%%time\n",
    "values = xmean['Band1'].values\n",
    "print(values)"
   ]
  }
 ],
 "metadata": {
  "kernelspec": {
   "display_name": "Python 3",
   "language": "python",
   "name": "python3"
  },
  "language_info": {
   "codemirror_mode": {
    "name": "ipython",
    "version": 3
   },
   "file_extension": ".py",
   "mimetype": "text/x-python",
   "name": "python",
   "nbconvert_exporter": "python",
   "pygments_lexer": "ipython3",
   "version": "3.7.3"
  }
 },
 "nbformat": 4,
 "nbformat_minor": 4
}
