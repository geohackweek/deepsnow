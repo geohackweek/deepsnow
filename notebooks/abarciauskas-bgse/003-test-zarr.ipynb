{
 "cells": [
  {
   "cell_type": "code",
   "execution_count": 1,
   "metadata": {},
   "outputs": [],
   "source": [
    "import xarray as xr\n",
    "import zarr"
   ]
  },
  {
   "cell_type": "code",
   "execution_count": 6,
   "metadata": {},
   "outputs": [
    {
     "data": {
      "text/plain": [
       "<xarray.Dataset>\n",
       "Dimensions:              (concat_dim: 9, x: 17569, y: 17002)\n",
       "Coordinates:\n",
       "  * concat_dim           (concat_dim) <U8 '20170401' '20170502' ... '20170129'\n",
       "  * x                    (x) float64 2.54e+05 2.54e+05 ... 3.067e+05 3.067e+05\n",
       "  * y                    (y) float64 4.179e+06 4.179e+06 ... 4.23e+06 4.23e+06\n",
       "Data variables:\n",
       "    Band1                (concat_dim, y, x) float32 dask.array<shape=(9, 17002, 17569), chunksize=(1, 1000, 1000)>\n",
       "    transverse_mercator  (concat_dim) |S1 dask.array<shape=(9,), chunksize=(9,)>\n",
       "Attributes:\n",
       "    Conventions:         CF-1.5\n",
       "    GDAL:                GDAL 2.4.1, released 2019/03/15\n",
       "    GDAL_AREA_OR_POINT:  Area\n",
       "    history:             Wed Sep 11 15:46:45 2019: GDAL CreateCopy( /srv/shar..."
      ]
     },
     "execution_count": 6,
     "metadata": {},
     "output_type": "execute_result"
    }
   ],
   "source": [
    "ds = xr.open_zarr('snow.zarr')\n",
    "xmean = ds.mean(dim='concat_dim')"
   ]
  },
  {
   "cell_type": "code",
   "execution_count": 5,
   "metadata": {},
   "outputs": [
    {
     "name": "stdout",
     "output_type": "stream",
     "text": [
      "[[  0.        0.        0.      ...   0.        0.        0.     ]\n",
      " [  0.        0.        0.      ...   0.        0.        0.     ]\n",
      " [  0.        0.        0.      ...   0.        0.        0.     ]\n",
      " ...\n",
      " [188.11111 205.77777 220.11111 ...   0.        0.        0.     ]\n",
      " [200.11111 209.77777 230.66667 ...   0.        0.        0.     ]\n",
      " [155.88889 171.55556 212.      ...   0.        0.        0.     ]]\n",
      "CPU times: user 40.6 s, sys: 4.72 s, total: 45.3 s\n",
      "Wall time: 12.9 s\n"
     ]
    }
   ],
   "source": [
    "%%time\n",
    "values = xmean['Band1'].values\n",
    "print(values)"
   ]
  }
 ],
 "metadata": {
  "kernelspec": {
   "display_name": "Python 3",
   "language": "python",
   "name": "python3"
  },
  "language_info": {
   "codemirror_mode": {
    "name": "ipython",
    "version": 3
   },
   "file_extension": ".py",
   "mimetype": "text/x-python",
   "name": "python",
   "nbconvert_exporter": "python",
   "pygments_lexer": "ipython3",
   "version": "3.7.3"
  }
 },
 "nbformat": 4,
 "nbformat_minor": 4
}
