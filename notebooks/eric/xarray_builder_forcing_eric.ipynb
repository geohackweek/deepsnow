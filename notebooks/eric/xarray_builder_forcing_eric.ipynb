{
 "cells": [
  {
   "cell_type": "markdown",
   "metadata": {},
   "source": [
    "## Code to bring in and downsample the forcings\n",
    "\n",
    "This code works off the xarray builder code first"
   ]
  },
  {
   "cell_type": "code",
   "execution_count": 6,
   "metadata": {},
   "outputs": [],
   "source": [
    "%matplotlib inline \n",
    "\n",
    "import numpy as np\n",
    "import pandas as pd\n",
    "import matplotlib.pyplot as plt\n",
    "import glob\n",
    "import os\n",
    "import time\n",
    "import xarray as xr"
   ]
  },
  {
   "cell_type": "code",
   "execution_count": 7,
   "metadata": {},
   "outputs": [
    {
     "name": "stdout",
     "output_type": "stream",
     "text": [
      "17\n"
     ]
    }
   ],
   "source": [
    "# Define the path to all of the data you want to load\n",
    "path = '/srv/shared/deep_stac/data/forcings/2017/*2017.nc'\n",
    "# Make the path a global varaible and make a list of the files \n",
    "flist=glob.glob(path)\n",
    "print(len(flist))"
   ]
  },
  {
   "cell_type": "code",
   "execution_count": 8,
   "metadata": {},
   "outputs": [
    {
     "data": {
      "text/plain": [
       "array(['pr_2015.nc', 'rmax_2015.nc', 'rmin_2015.nc', 'sph_2015.nc',\n",
       "       'srad_2015.nc', 'th_2015.nc', 'tmmn_2015.nc', 'tmmx_2015.nc',\n",
       "       'vs_2015.nc'], dtype='<U56')"
      ]
     },
     "execution_count": 8,
     "metadata": {},
     "output_type": "execute_result"
    }
   ],
   "source": [
    "# Open and filter to the 'primary' forcings \n",
    "fpth = './../../forcings_key.txt'\n",
    "key = np.genfromtxt(fpth, dtype='str', delimiter=',')\n",
    "\n",
    "len(key)\n",
    "\n",
    "pared = key[key[:,1]=='primary']\n",
    "pared[:,0]\n",
    "\n"
   ]
  },
  {
   "cell_type": "code",
   "execution_count": 12,
   "metadata": {},
   "outputs": [
    {
     "name": "stdout",
     "output_type": "stream",
     "text": [
      "bi_2017.nc\tfm100_2017.nc  rmax_2017.nc  th_2017.nc    vs_2017.nc\n",
      "erc_2017.nc\tpdsi_2017.nc   rmin_2017.nc  tmmn_2017.nc\n",
      "etr_2017.nc\tpet_2017.nc    sph_2017.nc   tmmx_2017.nc\n",
      "fm1000_2017.nc\tpr_2017.nc     srad_2017.nc  vpd_2017.nc\n"
     ]
    }
   ],
   "source": [
    "!ls /srv/shared/deep_stac/data/forcings/2017/"
   ]
  },
  {
   "cell_type": "code",
   "execution_count": 16,
   "metadata": {},
   "outputs": [
    {
     "data": {
      "text/plain": [
       "<xarray.Dataset>\n",
       "Dimensions:     (crs: 1, day: 365, lat: 585, lon: 1386)\n",
       "Coordinates:\n",
       "  * lon         (lon) float64 -124.8 -124.7 -124.7 ... -67.14 -67.1 -67.06\n",
       "  * lat         (lat) float64 49.4 49.36 49.32 49.28 ... 25.19 25.15 25.11 25.07\n",
       "  * day         (day) float64 4.273e+04 4.274e+04 ... 4.31e+04 4.31e+04\n",
       "  * crs         (crs) uint16 3\n",
       "Data variables:\n",
       "    wind_speed  (day, lat, lon) uint16 ...\n",
       "Attributes:\n",
       "    geospatial_bounds_crs:      EPSG:4326\n",
       "    Conventions:                CF-1.6\n",
       "    geospatial_bounds:          POLYGON((-124.7666666333333 49.40000000000000...\n",
       "    geospatial_lat_min:         25.066666666666666\n",
       "    geospatial_lat_max:         49.40000000000000\n",
       "    geospatial_lon_min:         -124.7666666333333\n",
       "    geospatial_lon_max:         -67.058333300000015\n",
       "    geospatial_lon_resolution:  0.041666666666666\n",
       "    geospatial_lat_resolution:  0.041666666666666\n",
       "    geospatial_lat_units:       decimal_degrees north\n",
       "    geospatial_lon_units:       decimal_degrees east\n",
       "    coordinate_system:          EPSG:4326\n",
       "    author:                     John Abatzoglou - University of Idaho, jabatz...\n",
       "    date:                       04 July 2019\n",
       "    note1:                      The projection information for this file is: ...\n",
       "    note2:                      Citation: Abatzoglou, J.T., 2013, Development...\n",
       "    note3:                      Data in slices after last_permanent_slice (1-...\n",
       "    note4:                      Data in slices after last_provisional_slice (...\n",
       "    note5:                      Days correspond approximately to calendar day..."
      ]
     },
     "execution_count": 16,
     "metadata": {},
     "output_type": "execute_result"
    }
   ],
   "source": [
    "path\n",
    "da = xr.open_dataset('/srv/shared/deep_stac/data/forcings/2017/vs_2017.nc', decode_cf=False)\n",
    "da"
   ]
  },
  {
   "cell_type": "code",
   "execution_count": 14,
   "metadata": {},
   "outputs": [
    {
     "name": "stderr",
     "output_type": "stream",
     "text": [
      "/srv/conda/envs/notebook/lib/python3.7/site-packages/xarray/conventions.py:448: SerializationWarning: variable 'precipitation_amount' has _Unsigned attribute but is not of integer type. Ignoring attribute.\n",
      "  stack_char_dim=stack_char_dim, use_cftime=use_cftime)\n"
     ]
    },
    {
     "data": {
      "text/plain": [
       "<xarray.Dataset>\n",
       "Dimensions:               (crs: 1, day: 365, lat: 585, lon: 1386)\n",
       "Coordinates:\n",
       "  * lon                   (lon) float64 -124.8 -124.7 -124.7 ... -67.1 -67.06\n",
       "  * lat                   (lat) float64 49.4 49.36 49.32 ... 25.15 25.11 25.07\n",
       "  * day                   (day) datetime64[ns] 2017-01-01 ... 2017-12-31\n",
       "  * crs                   (crs) uint16 3\n",
       "Data variables:\n",
       "    precipitation_amount  (day, lat, lon) float32 ...\n",
       "Attributes:\n",
       "    geospatial_bounds_crs:      EPSG:4326\n",
       "    Conventions:                CF-1.6\n",
       "    geospatial_bounds:          POLYGON((-124.7666666333333 49.40000000000000...\n",
       "    geospatial_lat_min:         25.066666666666666\n",
       "    geospatial_lat_max:         49.40000000000000\n",
       "    geospatial_lon_min:         -124.7666666333333\n",
       "    geospatial_lon_max:         -67.058333300000015\n",
       "    geospatial_lon_resolution:  0.041666666666666\n",
       "    geospatial_lat_resolution:  0.041666666666666\n",
       "    geospatial_lat_units:       decimal_degrees north\n",
       "    geospatial_lon_units:       decimal_degrees east\n",
       "    coordinate_system:          EPSG:4326\n",
       "    author:                     John Abatzoglou - University of Idaho, jabatz...\n",
       "    date:                       04 July 2019\n",
       "    note1:                      The projection information for this file is: ...\n",
       "    note2:                      Citation: Abatzoglou, J.T., 2013, Development...\n",
       "    note3:                      Data in slices after last_permanent_slice (1-...\n",
       "    note4:                      Data in slices after last_provisional_slice (...\n",
       "    note5:                      Days correspond approximately to calendar day..."
      ]
     },
     "execution_count": 14,
     "metadata": {},
     "output_type": "execute_result"
    }
   ],
   "source": [
    "path\n",
    "da = xr.open_dataset('/srv/shared/deep_stac/data/forcings/2017/pr_2017.nc')\n",
    "da"
   ]
  },
  {
   "cell_type": "code",
   "execution_count": 19,
   "metadata": {},
   "outputs": [
    {
     "data": {
      "text/plain": [
       "\u001b[0;31mSignature:\u001b[0m\n",
       "\u001b[0mxr\u001b[0m\u001b[0;34m.\u001b[0m\u001b[0mopen_mfdataset\u001b[0m\u001b[0;34m(\u001b[0m\u001b[0;34m\u001b[0m\n",
       "\u001b[0;34m\u001b[0m    \u001b[0mpaths\u001b[0m\u001b[0;34m,\u001b[0m\u001b[0;34m\u001b[0m\n",
       "\u001b[0;34m\u001b[0m    \u001b[0mchunks\u001b[0m\u001b[0;34m=\u001b[0m\u001b[0;32mNone\u001b[0m\u001b[0;34m,\u001b[0m\u001b[0;34m\u001b[0m\n",
       "\u001b[0;34m\u001b[0m    \u001b[0mconcat_dim\u001b[0m\u001b[0;34m=\u001b[0m\u001b[0;34m'_not_supplied'\u001b[0m\u001b[0;34m,\u001b[0m\u001b[0;34m\u001b[0m\n",
       "\u001b[0;34m\u001b[0m    \u001b[0mcompat\u001b[0m\u001b[0;34m=\u001b[0m\u001b[0;34m'no_conflicts'\u001b[0m\u001b[0;34m,\u001b[0m\u001b[0;34m\u001b[0m\n",
       "\u001b[0;34m\u001b[0m    \u001b[0mpreprocess\u001b[0m\u001b[0;34m=\u001b[0m\u001b[0;32mNone\u001b[0m\u001b[0;34m,\u001b[0m\u001b[0;34m\u001b[0m\n",
       "\u001b[0;34m\u001b[0m    \u001b[0mengine\u001b[0m\u001b[0;34m=\u001b[0m\u001b[0;32mNone\u001b[0m\u001b[0;34m,\u001b[0m\u001b[0;34m\u001b[0m\n",
       "\u001b[0;34m\u001b[0m    \u001b[0mlock\u001b[0m\u001b[0;34m=\u001b[0m\u001b[0;32mNone\u001b[0m\u001b[0;34m,\u001b[0m\u001b[0;34m\u001b[0m\n",
       "\u001b[0;34m\u001b[0m    \u001b[0mdata_vars\u001b[0m\u001b[0;34m=\u001b[0m\u001b[0;34m'all'\u001b[0m\u001b[0;34m,\u001b[0m\u001b[0;34m\u001b[0m\n",
       "\u001b[0;34m\u001b[0m    \u001b[0mcoords\u001b[0m\u001b[0;34m=\u001b[0m\u001b[0;34m'different'\u001b[0m\u001b[0;34m,\u001b[0m\u001b[0;34m\u001b[0m\n",
       "\u001b[0;34m\u001b[0m    \u001b[0mcombine\u001b[0m\u001b[0;34m=\u001b[0m\u001b[0;34m'_old_auto'\u001b[0m\u001b[0;34m,\u001b[0m\u001b[0;34m\u001b[0m\n",
       "\u001b[0;34m\u001b[0m    \u001b[0mautoclose\u001b[0m\u001b[0;34m=\u001b[0m\u001b[0;32mNone\u001b[0m\u001b[0;34m,\u001b[0m\u001b[0;34m\u001b[0m\n",
       "\u001b[0;34m\u001b[0m    \u001b[0mparallel\u001b[0m\u001b[0;34m=\u001b[0m\u001b[0;32mFalse\u001b[0m\u001b[0;34m,\u001b[0m\u001b[0;34m\u001b[0m\n",
       "\u001b[0;34m\u001b[0m    \u001b[0;34m**\u001b[0m\u001b[0mkwargs\u001b[0m\u001b[0;34m,\u001b[0m\u001b[0;34m\u001b[0m\n",
       "\u001b[0;34m\u001b[0m\u001b[0;34m)\u001b[0m\u001b[0;34m\u001b[0m\u001b[0;34m\u001b[0m\u001b[0m\n",
       "\u001b[0;31mDocstring:\u001b[0m\n",
       "Open multiple files as a single dataset.\n",
       "\n",
       "If combine='by_coords' then the function ``combine_by_coords`` is used to \n",
       "combine the datasets into one before returning the result, and if \n",
       "combine='nested' then ``combine_nested`` is used. The filepaths must be \n",
       "structured according to which combining function is used, the details of \n",
       "which are given in the documentation for ``combine_by_coords`` and \n",
       "``combine_nested``. By default the old (now deprecated) ``auto_combine`` \n",
       "will be used, please specify either ``combine='by_coords'`` or \n",
       "``combine='nested'`` in future. Requires dask to be installed. See \n",
       "documentation for details on dask [1]. Attributes from the first dataset \n",
       "file are used for the combined dataset.\n",
       "\n",
       "Parameters\n",
       "----------\n",
       "paths : str or sequence\n",
       "    Either a string glob in the form \"path/to/my/files/*.nc\" or an explicit\n",
       "    list of files to open. Paths can be given as strings or as pathlib\n",
       "    Paths. If concatenation along more than one dimension is desired, then\n",
       "    ``paths`` must be a nested list-of-lists (see ``manual_combine`` for\n",
       "    details). (A string glob will be expanded to a 1-dimensional list.)\n",
       "chunks : int or dict, optional\n",
       "    Dictionary with keys given by dimension names and values given by chunk\n",
       "    sizes. In general, these should divide the dimensions of each dataset.\n",
       "    If int, chunk each dimension by ``chunks``.\n",
       "    By default, chunks will be chosen to load entire input files into\n",
       "    memory at once. This has a major impact on performance: please see the\n",
       "    full documentation for more details [2].\n",
       "concat_dim : str, or list of str, DataArray, Index or None, optional\n",
       "    Dimensions to concatenate files along.  You only\n",
       "    need to provide this argument if any of the dimensions along which you\n",
       "    want to concatenate is not a dimension in the original datasets, e.g.,\n",
       "    if you want to stack a collection of 2D arrays along a third dimension.\n",
       "    Set ``concat_dim=[..., None, ...]`` explicitly to\n",
       "    disable concatenation along a particular dimension.\n",
       "combine : {'by_coords', 'nested'}, optional\n",
       "    Whether ``xarray.combine_by_coords`` or ``xarray.combine_nested`` is \n",
       "    used to combine all the data. If this argument is not provided, \n",
       "    `xarray.auto_combine` is used, but in the future this behavior will \n",
       "    switch to use `xarray.combine_by_coords` by default.\n",
       "compat : {'identical', 'equals', 'broadcast_equals',\n",
       "          'no_conflicts'}, optional\n",
       "    String indicating how to compare variables of the same name for\n",
       "    potential conflicts when merging:\n",
       "     * 'broadcast_equals': all values must be equal when variables are\n",
       "       broadcast against each other to ensure common dimensions.\n",
       "     * 'equals': all values and dimensions must be the same.\n",
       "     * 'identical': all values, dimensions and attributes must be the\n",
       "       same.\n",
       "     * 'no_conflicts': only values which are not null in both datasets\n",
       "       must be equal. The returned dataset then contains the combination\n",
       "       of all non-null values.\n",
       "preprocess : callable, optional\n",
       "    If provided, call this function on each dataset prior to concatenation.\n",
       "    You can find the file-name from which each dataset was loaded in\n",
       "    ``ds.encoding['source']``.\n",
       "engine : {'netcdf4', 'scipy', 'pydap', 'h5netcdf', 'pynio', 'cfgrib'},         optional\n",
       "    Engine to use when reading files. If not provided, the default engine\n",
       "    is chosen based on available dependencies, with a preference for\n",
       "    'netcdf4'.\n",
       "lock : False or duck threading.Lock, optional\n",
       "    Resource lock to use when reading data from disk. Only relevant when\n",
       "    using dask or another form of parallelism. By default, appropriate\n",
       "    locks are chosen to safely read and write files with the currently\n",
       "    active dask scheduler.\n",
       "data_vars : {'minimal', 'different', 'all' or list of str}, optional\n",
       "    These data variables will be concatenated together:\n",
       "      * 'minimal': Only data variables in which the dimension already\n",
       "        appears are included.\n",
       "      * 'different': Data variables which are not equal (ignoring\n",
       "        attributes) across all datasets are also concatenated (as well as\n",
       "        all for which dimension already appears). Beware: this option may\n",
       "        load the data payload of data variables into memory if they are not\n",
       "        already loaded.\n",
       "      * 'all': All data variables will be concatenated.\n",
       "      * list of str: The listed data variables will be concatenated, in\n",
       "        addition to the 'minimal' data variables.\n",
       "coords : {'minimal', 'different', 'all' or list of str}, optional\n",
       "    These coordinate variables will be concatenated together:\n",
       "     * 'minimal': Only coordinates in which the dimension already appears\n",
       "       are included.\n",
       "     * 'different': Coordinates which are not equal (ignoring attributes)\n",
       "       across all datasets are also concatenated (as well as all for which\n",
       "       dimension already appears). Beware: this option may load the data\n",
       "       payload of coordinate variables into memory if they are not already\n",
       "       loaded.\n",
       "     * 'all': All coordinate variables will be concatenated, except\n",
       "       those corresponding to other dimensions.\n",
       "     * list of str: The listed coordinate variables will be concatenated,\n",
       "       in addition the 'minimal' coordinates.\n",
       "parallel : bool, optional\n",
       "    If True, the open and preprocess steps of this function will be\n",
       "    performed in parallel using ``dask.delayed``. Default is False.\n",
       "**kwargs : optional\n",
       "    Additional arguments passed on to :py:func:`xarray.open_dataset`.\n",
       "\n",
       "Returns\n",
       "-------\n",
       "xarray.Dataset\n",
       "\n",
       "Notes\n",
       "-----\n",
       "``open_mfdataset`` opens files with read-only access. When you modify values\n",
       "of a Dataset, even one linked to files on disk, only the in-memory copy you\n",
       "are manipulating in xarray is modified: the original file on disk is never\n",
       "touched.\n",
       "\n",
       "See Also\n",
       "--------\n",
       "combine_by_coords\n",
       "combine_nested\n",
       "auto_combine\n",
       "open_dataset\n",
       "\n",
       "References\n",
       "----------\n",
       "\n",
       ".. [1] http://xarray.pydata.org/en/stable/dask.html\n",
       ".. [2] http://xarray.pydata.org/en/stable/dask.html#chunking-and-performance\n",
       "\u001b[0;31mFile:\u001b[0m      /srv/conda/envs/notebook/lib/python3.7/site-packages/xarray/backends/api.py\n",
       "\u001b[0;31mType:\u001b[0m      function\n"
      ]
     },
     "metadata": {},
     "output_type": "display_data"
    }
   ],
   "source": [
    "ds=xr.open_mfdataset?"
   ]
  },
  {
   "cell_type": "code",
   "execution_count": 23,
   "metadata": {},
   "outputs": [
    {
     "name": "stderr",
     "output_type": "stream",
     "text": [
      "/srv/conda/envs/notebook/lib/python3.7/site-packages/xarray/conventions.py:448: SerializationWarning: variable 'wind_speed' has _Unsigned attribute but is not of integer type. Ignoring attribute.\n",
      "  stack_char_dim=stack_char_dim, use_cftime=use_cftime)\n",
      "/srv/conda/envs/notebook/lib/python3.7/site-packages/xarray/conventions.py:448: SerializationWarning: variable 'precipitation_amount' has _Unsigned attribute but is not of integer type. Ignoring attribute.\n",
      "  stack_char_dim=stack_char_dim, use_cftime=use_cftime)\n"
     ]
    }
   ],
   "source": [
    "ds=xr.open_mfdataset(['/srv/shared/deep_stac/data/forcings/2017/vs_2017.nc','/srv/shared/deep_stac/data/forcings/2017/pr_2017.nc'], combine='by_coords', )"
   ]
  },
  {
   "cell_type": "code",
   "execution_count": 24,
   "metadata": {},
   "outputs": [
    {
     "data": {
      "text/plain": [
       "<xarray.Dataset>\n",
       "Dimensions:               (crs: 1, day: 365, lat: 585, lon: 1386)\n",
       "Coordinates:\n",
       "  * lon                   (lon) float64 -124.8 -124.7 -124.7 ... -67.1 -67.06\n",
       "  * lat                   (lat) float64 49.4 49.36 49.32 ... 25.15 25.11 25.07\n",
       "  * day                   (day) datetime64[ns] 2017-01-01 ... 2017-12-31\n",
       "  * crs                   (crs) uint16 3\n",
       "Data variables:\n",
       "    precipitation_amount  (day, lat, lon) float32 dask.array<shape=(365, 585, 1386), chunksize=(365, 585, 1386)>\n",
       "    wind_speed            (day, lat, lon) float32 dask.array<shape=(365, 585, 1386), chunksize=(365, 585, 1386)>\n",
       "Attributes:\n",
       "    geospatial_bounds_crs:      EPSG:4326\n",
       "    Conventions:                CF-1.6\n",
       "    geospatial_bounds:          POLYGON((-124.7666666333333 49.40000000000000...\n",
       "    geospatial_lat_min:         25.066666666666666\n",
       "    geospatial_lat_max:         49.40000000000000\n",
       "    geospatial_lon_min:         -124.7666666333333\n",
       "    geospatial_lon_max:         -67.058333300000015\n",
       "    geospatial_lon_resolution:  0.041666666666666\n",
       "    geospatial_lat_resolution:  0.041666666666666\n",
       "    geospatial_lat_units:       decimal_degrees north\n",
       "    geospatial_lon_units:       decimal_degrees east\n",
       "    coordinate_system:          EPSG:4326\n",
       "    author:                     John Abatzoglou - University of Idaho, jabatz...\n",
       "    date:                       04 July 2019\n",
       "    note1:                      The projection information for this file is: ...\n",
       "    note2:                      Citation: Abatzoglou, J.T., 2013, Development...\n",
       "    note3:                      Data in slices after last_permanent_slice (1-...\n",
       "    note4:                      Data in slices after last_provisional_slice (...\n",
       "    note5:                      Days correspond approximately to calendar day..."
      ]
     },
     "execution_count": 24,
     "metadata": {},
     "output_type": "execute_result"
    }
   ],
   "source": [
    "ds"
   ]
  },
  {
   "cell_type": "code",
   "execution_count": 4,
   "metadata": {},
   "outputs": [
    {
     "name": "stderr",
     "output_type": "stream",
     "text": [
      "/srv/conda/envs/notebook/lib/python3.7/site-packages/xarray/conventions.py:448: SerializationWarning: variable 'air_temperature' has _Unsigned attribute but is not of integer type. Ignoring attribute.\n",
      "  stack_char_dim=stack_char_dim, use_cftime=use_cftime)\n"
     ]
    },
    {
     "data": {
      "text/plain": [
       "<matplotlib.collections.QuadMesh at 0x7f335a4a8b70>"
      ]
     },
     "execution_count": 4,
     "metadata": {},
     "output_type": "execute_result"
    },
    {
     "data": {
      "image/png": "[encoded data removed]",
      "text/plain": [
       "<Figure size 432x288 with 2 Axes>"
      ]
     },
     "metadata": {
      "needs_background": "light"
     },
     "output_type": "display_data"
    }
   ],
   "source": [
    "# Working with one dataset is better than many for learning\n",
    "\n",
    "path1 = '/srv/shared/deep_stac/data/forcings/2017/tmmx_2017.nc'\n",
    "d1 = xr.open_dataset(path1)\n",
    "# d1['day'][0]['air_temperature'].plot\n",
    "d1\n",
    "temp=d1.air_temperature\n",
    "temp.isel(day=0).plot()\n",
    "#day[\"air_temperature\"][0].plot"
   ]
  },
  {
   "cell_type": "code",
   "execution_count": 13,
   "metadata": {},
   "outputs": [
    {
     "data": {
      "text/plain": [
       "<xarray.Dataset>\n",
       "Dimensions:     (time: 1, x: 17569, y: 17002)\n",
       "Coordinates:\n",
       "  * y           (y) float32 4230327.0 4230324.0 ... 4179327.0 4179324.0\n",
       "  * x           (x) float32 254007.0 254010.0 254013.0 ... 306708.0 306711.0\n",
       "Dimensions without coordinates: time\n",
       "Data variables:\n",
       "    veg_height  (time, y, x) float32 0.0 0.0 0.0 0.0 0.0 ... 17.5 17.5 17.5 17.5\n",
       "    veg_tau     (time, y, x) float32 0.0 0.0 0.0 0.0 0.0 ... 0.0 0.0 0.0 0.0 0.0\n",
       "    veg_k       (time, y, x) float32 0.0 0.0 0.0 0.0 0.0 ... 0.0 0.0 0.0 0.0 0.0\n",
       "    veg_type    (time, y, x) uint32 3294 3294 3294 3294 ... 3033 3033 3033 3033\n",
       "    dem         (time, y, x) float32 2633.369 2635.3313 ... 3064.8484 3064.3577\n",
       "    mask        (time, y, x) uint8 0 0 0 0 0 0 0 0 0 0 0 ... 0 0 0 0 0 0 0 0 0 0\n",
       "    projection  (time) |S1 b''\n",
       "Attributes:\n",
       "    last_modified:       [2019-08-08 17:17:16] Data added or updated\n",
       "    Conventions:         CF-1.6\n",
       "    dateCreated:         2019-08-08 17:17:34\n",
       "    Title:               Topographic Images for SMRF/AWSM\n",
       "    history:             [2019-08-08 17:17:34] Create netCDF4 file using Basi...\n",
       "    institution:         USDA Agricultural Research Service, Northwest Waters...\n",
       "    generation_command:  /usr/local/bin/basin_setup -f corrected_tuolumne_sub..."
      ]
     },
     "execution_count": 13,
     "metadata": {},
     "output_type": "execute_result"
    }
   ],
   "source": [
    "topo = '/home/jovyan/shared/deep_stac/data/topo.nc'\n",
    "dstopo = xr.open_dataset(topo)\n",
    "dstopo.close()\n",
    "dstopo.expand_dims('time')"
   ]
  },
  {
   "cell_type": "code",
   "execution_count": 14,
   "metadata": {},
   "outputs": [
    {
     "data": {
      "text/plain": [
       "<xarray.Dataset>\n",
       "Dimensions:     (x: 17569, y: 17002)\n",
       "Coordinates:\n",
       "  * y           (y) float32 4230327.0 4230324.0 ... 4179327.0 4179324.0\n",
       "  * x           (x) float32 254007.0 254010.0 254013.0 ... 306708.0 306711.0\n",
       "Data variables:\n",
       "    veg_height  (y, x) float32 0.0 0.0 0.0 0.0 0.0 ... 17.5 17.5 17.5 17.5 17.5\n",
       "    veg_tau     (y, x) float32 0.0 0.0 0.0 0.0 0.0 0.0 ... 0.0 0.0 0.0 0.0 0.0\n",
       "    veg_k       (y, x) float32 0.0 0.0 0.0 0.0 0.0 0.0 ... 0.0 0.0 0.0 0.0 0.0\n",
       "    veg_type    (y, x) uint32 3294 3294 3294 3294 3294 ... 3033 3033 3033 3033\n",
       "    dem         (y, x) float32 2633.369 2635.3313 ... 3064.8484 3064.3577\n",
       "    mask        (y, x) uint8 0 0 0 0 0 0 0 0 0 0 0 0 ... 0 0 0 0 0 0 0 0 0 0 0 0\n",
       "    projection  |S1 b''\n",
       "Attributes:\n",
       "    last_modified:       [2019-08-08 17:17:16] Data added or updated\n",
       "    Conventions:         CF-1.6\n",
       "    dateCreated:         2019-08-08 17:17:34\n",
       "    Title:               Topographic Images for SMRF/AWSM\n",
       "    history:             [2019-08-08 17:17:34] Create netCDF4 file using Basi...\n",
       "    institution:         USDA Agricultural Research Service, Northwest Waters...\n",
       "    generation_command:  /usr/local/bin/basin_setup -f corrected_tuolumne_sub..."
      ]
     },
     "execution_count": 14,
     "metadata": {},
     "output_type": "execute_result"
    }
   ],
   "source": [
    "dstopo"
   ]
  },
  {
   "cell_type": "code",
   "execution_count": null,
   "metadata": {},
   "outputs": [],
   "source": []
  }
 ],
 "metadata": {
  "kernelspec": {
   "display_name": "Python 3",
   "language": "python",
   "name": "python3"
  },
  "language_info": {
   "codemirror_mode": {
    "name": "ipython",
    "version": 3
   },
   "file_extension": ".py",
   "mimetype": "text/x-python",
   "name": "python",
   "nbconvert_exporter": "python",
   "pygments_lexer": "ipython3",
   "version": "3.7.3"
  }
 },
 "nbformat": 4,
 "nbformat_minor": 4
}
