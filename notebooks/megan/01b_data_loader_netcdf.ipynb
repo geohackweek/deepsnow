{
 "cells": [
  {
   "cell_type": "markdown",
   "metadata": {},
   "source": [
    "# Load Modules and File Paths"
   ]
  },
  {
   "cell_type": "code",
   "execution_count": 1,
   "metadata": {},
   "outputs": [
    {
     "name": "stderr",
     "output_type": "stream",
     "text": [
      "/srv/conda/envs/notebook/lib/python3.7/site-packages/ipykernel_launcher.py:10: MatplotlibDeprecationWarning: \n",
      "The text.latex.unicode rcparam was deprecated in Matplotlib 3.0 and will be removed in 3.2.\n",
      "  # Remove the CWD from sys.path while we load stuff.\n"
     ]
    }
   ],
   "source": [
    "import os\n",
    "import sys\n",
    "import numpy as np\n",
    "import pandas as pd\n",
    "import math\n",
    "from os.path import abspath\n",
    "import matplotlib.pyplot as plt\n",
    "import matplotlib\n",
    "from mpl_toolkits.axes_grid1 import make_axes_locatable\n",
    "matplotlib.rcParams['text.latex.unicode']=False\n",
    "import datetime\n",
    "from operator import add\n",
    "import pickle\n",
    "from sklearn.impute import SimpleImputer as Imputer\n",
    "from osgeo import gdal\n",
    "import xarray as xr\n",
    "from affine import Affine\n",
    "import matplotlib.pyplot as plt\n",
    "from mpl_toolkits.axes_grid1 import make_axes_locatable\n",
    "import numpy as np\n",
    "import glob\n",
    "from pathlib import Path\n",
    "# import richdem as rd\n",
    "\n",
    "imp = Imputer(strategy='mean')\n",
    "\n",
    "# --------------------- #\n",
    "# Lets Rips Some Treads #\n",
    "# --------------------- #\n",
    "\n",
    "from joblib import Parallel, delayed\n",
    "import multiprocessing\n",
    "num_cores = multiprocessing.cpu_count()\n",
    "\n",
    "\n",
    "if abspath('../../utils/') not in sys.path:\n",
    "    sys.path.append(abspath('../../utils/'))\n",
    "from utils import GetExtent"
   ]
  },
  {
   "cell_type": "code",
   "execution_count": null,
   "metadata": {},
   "outputs": [],
   "source": [
    "# SITENAME = 'tuolumne'\n",
    "# name = 'snowdepth'\n",
    "# formato = 'netcdf'\n",
    "# YEAR = '2015'\n",
    "# path_to_data = f'/srv/shared/deep_stac/data/{name}/{formato}/{YEAR}'\n",
    "# path_to_topo = '/srv/shared/deep_stac/data/topo.nc'\n",
    "# files = os.listdir(path_to_data)\n",
    "# files = np.sort([f for f in files if 'int' in f])\n",
    "# fname_list = [os.path.join(path_to_data, f) for f in np.sort(files)]\n",
    "# dates = [d.split('_')[0] for d in files]\n",
    "# dates = np.sort(dates).tolist()\n",
    "# dates = [pd.to_datetime(d.split('_')[0]).date() for d in files]"
   ]
  },
  {
   "cell_type": "code",
   "execution_count": 2,
   "metadata": {},
   "outputs": [
    {
     "data": {
      "text/plain": [
       "['/srv/shared/deep_stac/data/snowdepth/netcdf/2015/20150403_SUPERsnow_depth_3m_int.nc',\n",
       " '/srv/shared/deep_stac/data/snowdepth/netcdf/2015/20150528_SUPERsnow_depth_3m_int.nc',\n",
       " '/srv/shared/deep_stac/data/snowdepth/netcdf/2015/20150218_SUPERsnow_depth_3m_int.nc',\n",
       " '/srv/shared/deep_stac/data/snowdepth/netcdf/2015/20150306_SUPERsnow_depth_3m_int.nc',\n",
       " '/srv/shared/deep_stac/data/snowdepth/netcdf/2015/20150427_SUPERsnow_depth_3m_int.nc',\n",
       " '/srv/shared/deep_stac/data/snowdepth/netcdf/2015/20150409_SUPERsnow_depth_3m_int.nc',\n",
       " '/srv/shared/deep_stac/data/snowdepth/netcdf/2015/20150415_SUPERsnow_depth_3m_int.nc',\n",
       " '/srv/shared/deep_stac/data/snowdepth/netcdf/2015/20150325_SUPERsnow_depth_3m_int.nc',\n",
       " '/srv/shared/deep_stac/data/snowdepth/netcdf/2015/20150608_SUPERsnow_depth_3m_int.nc',\n",
       " '/srv/shared/deep_stac/data/snowdepth/netcdf/2015/20150501_SUPERsnow_depth_3m_int.nc',\n",
       " '/srv/shared/deep_stac/data/snowdepth/netcdf/2017/20170401_SUPERsnow_depth_3m_int.nc',\n",
       " '/srv/shared/deep_stac/data/snowdepth/netcdf/2017/20170502_SUPERsnow_depth_3m_int.nc',\n",
       " '/srv/shared/deep_stac/data/snowdepth/netcdf/2017/20170816_SUPERsnow_depth_3m_int.nc',\n",
       " '/srv/shared/deep_stac/data/snowdepth/netcdf/2017/20170717_SUPERsnow_depth_3m_int.nc',\n",
       " '/srv/shared/deep_stac/data/snowdepth/netcdf/2017/20170303_SUPERsnow_depth_3m_int.nc',\n",
       " '/srv/shared/deep_stac/data/snowdepth/netcdf/2017/20170604_SUPERsnow_depth_3m_int.nc',\n",
       " '/srv/shared/deep_stac/data/snowdepth/netcdf/2017/20170727_SUPERsnow_depth_3m_int.nc',\n",
       " '/srv/shared/deep_stac/data/snowdepth/netcdf/2017/20170709_SUPERsnow_depth_3m_int.nc',\n",
       " '/srv/shared/deep_stac/data/snowdepth/netcdf/2017/20170129_SUPERsnow_depth_3m_int.nc']"
      ]
     },
     "execution_count": 2,
     "metadata": {},
     "output_type": "execute_result"
    }
   ],
   "source": [
    "import glob\n",
    "path = '/srv/shared/deep_stac/data/snowdepth/netcdf/20*/*int.nc'\n",
    "flist = glob.glob(path, recursive=True)\n",
    "flist"
   ]
  },
  {
   "cell_type": "markdown",
   "metadata": {},
   "source": [
    "### Read in Lidar and Topo Data"
   ]
  },
  {
   "cell_type": "code",
   "execution_count": 4,
   "metadata": {},
   "outputs": [
    {
     "data": {
      "text/plain": [
       "<xarray.Dataset>\n",
       "Dimensions:              (flight_date: 19, x: 17569, y: 17002)\n",
       "Coordinates:\n",
       "  * x                    (x) float64 2.54e+05 2.54e+05 ... 3.067e+05 3.067e+05\n",
       "  * y                    (y) float64 4.179e+06 4.179e+06 ... 4.23e+06 4.23e+06\n",
       "Dimensions without coordinates: flight_date\n",
       "Data variables:\n",
       "    transverse_mercator  (flight_date) |S1 b'' b'' b'' b'' ... b'' b'' b'' b''\n",
       "    Band1                (flight_date, y, x) float32 dask.array<shape=(19, 17002, 17569), chunksize=(1, 1000, 1000)>\n",
       "Attributes:\n",
       "    GDAL_AREA_OR_POINT:  Area\n",
       "    Conventions:         CF-1.5\n",
       "    GDAL:                GDAL 2.4.1, released 2019/03/15\n",
       "    history:             Wed Sep 11 15:41:18 2019: GDAL CreateCopy( /srv/shar..."
      ]
     },
     "execution_count": 4,
     "metadata": {},
     "output_type": "execute_result"
    }
   ],
   "source": [
    "# --------------- #\n",
    "# Read Lidar Data #\n",
    "# --------------- #\n",
    "ds = xr.open_mfdataset(flist, concat_dim='flight_date', chunks={'x':1000, 'y':1000})\n",
    "ds.close()\n",
    "ds\n",
    "\n",
    "# dtopo = xr.open_dataset(path_to_topo, chunks={'x':1000, 'y':1000})\n",
    "# dtopo.close()"
   ]
  },
  {
   "cell_type": "markdown",
   "metadata": {},
   "source": [
    "### Sub select features to include to the dem. "
   ]
  },
  {
   "cell_type": "code",
   "execution_count": null,
   "metadata": {},
   "outputs": [],
   "source": [
    "# add_to_lidar = ['dem','veg_height','mask']\n",
    "# dtopo = dtopo[add_to_lidar]"
   ]
  },
  {
   "cell_type": "code",
   "execution_count": null,
   "metadata": {},
   "outputs": [],
   "source": [
    "# -------------------- #\n",
    "# Remove This features #\n",
    "# -------------------- #\n",
    "\n",
    "ds = ds.drop('transverse_mercator')\n",
    "\n",
    "dtopo = dtopo.expand_dims('flight_date')"
   ]
  },
  {
   "cell_type": "markdown",
   "metadata": {},
   "source": [
    "### Print Data Details"
   ]
  },
  {
   "cell_type": "code",
   "execution_count": null,
   "metadata": {},
   "outputs": [],
   "source": [
    "print('TOPO: \\n\\n',dtopo, '\\n\\n\\nLidar:\\n\\n', ds)"
   ]
  },
  {
   "cell_type": "code",
   "execution_count": null,
   "metadata": {},
   "outputs": [],
   "source": [
    "ds['date'] = (['date'], dates)\n",
    "ds = ds.assign_coords(date=ds.date)"
   ]
  },
  {
   "cell_type": "code",
   "execution_count": null,
   "metadata": {},
   "outputs": [],
   "source": [
    "dates"
   ]
  },
  {
   "cell_type": "code",
   "execution_count": null,
   "metadata": {},
   "outputs": [],
   "source": [
    "datos = {}"
   ]
  },
  {
   "cell_type": "code",
   "execution_count": null,
   "metadata": {},
   "outputs": [],
   "source": [
    "datos['snowdepth'] = np.divide(ds.Band1[0,:,:].values,100)\n",
    "datos['vegh'] = dtopo.veg_height.values.squeeze(axis=0)\n",
    "datos['dem'] = dtopo.dem.values.squeeze(axis=0)"
   ]
  },
  {
   "cell_type": "code",
   "execution_count": null,
   "metadata": {},
   "outputs": [],
   "source": [
    "print(type(datos['dem']))\n",
    "print(datos['dem'].shape)"
   ]
  },
  {
   "cell_type": "markdown",
   "metadata": {},
   "source": [
    "## Generate Topographic Features from DEM"
   ]
  },
  {
   "cell_type": "code",
   "execution_count": null,
   "metadata": {},
   "outputs": [],
   "source": [
    "# datos['dem'] = rd.rdarray(datos['dem'], no_data=-9999)\n",
    "\n",
    "# datos['slope'] = rd.TerrainAttribute(\n",
    "#     rd.rdarray(datos['dem'], no_data=-9999),\n",
    "#     attrib='slope_riserun'\n",
    "# )\n",
    "# datos['aspect'] = rd.TerrainAttribute(\n",
    "#     rd.rdarray(datos['dem'], no_data=-9999), \n",
    "#     attrib='aspect')\n",
    "\n",
    "# datos['curvature'] = rd.TerrainAttribute(\n",
    "#     rd.rdarray(datos['dem'], no_data=-9999), \n",
    "#     attrib='profile_curvature'\n",
    "# )"
   ]
  },
  {
   "cell_type": "code",
   "execution_count": null,
   "metadata": {},
   "outputs": [],
   "source": [
    "### Visualize Features"
   ]
  },
  {
   "cell_type": "code",
   "execution_count": null,
   "metadata": {},
   "outputs": [],
   "source": [
    "# feat_to_viz = 'aspect'\n",
    "\n",
    "# plt.figure(figsize=(10,15))\n",
    "# ax = plt.subplot(1,1,1)\n",
    "# im = plt.imshow(\n",
    "#     np.flipud(datos['feat_to_viz']), \n",
    "#     origin='lower', \n",
    "#     cmap='hsv'\n",
    "# #     vmin=0, vmax=360\n",
    "# )\n",
    "# # create an axes on the right side of ax. The width of cax will be 5%\n",
    "# # of ax and the padding between cax and ax will be fixed at 0.05 inch.\n",
    "# divider = make_axes_locatable(ax)\n",
    "# cax = divider.append_axes(\"right\", size=\"5%\", pad=0.05)\n",
    "\n",
    "# plt.colorbar(im, cax=cax)"
   ]
  },
  {
   "cell_type": "code",
   "execution_count": null,
   "metadata": {},
   "outputs": [],
   "source": [
    "# boo = DS['Band1'][4,10000:14000,10000:14000]"
   ]
  },
  {
   "cell_type": "code",
   "execution_count": null,
   "metadata": {},
   "outputs": [],
   "source": [
    "# boo.plot()"
   ]
  },
  {
   "cell_type": "code",
   "execution_count": null,
   "metadata": {},
   "outputs": [],
   "source": [
    "# import sys\n",
    "# print(boo.nbytes/1000000)"
   ]
  },
  {
   "cell_type": "code",
   "execution_count": null,
   "metadata": {},
   "outputs": [],
   "source": []
  },
  {
   "cell_type": "code",
   "execution_count": null,
   "metadata": {},
   "outputs": [],
   "source": []
  },
  {
   "cell_type": "code",
   "execution_count": null,
   "metadata": {},
   "outputs": [],
   "source": []
  }
 ],
 "metadata": {
  "kernelspec": {
   "display_name": "Python [conda env:notebook] *",
   "language": "python",
   "name": "conda-env-notebook-py"
  },
  "language_info": {
   "codemirror_mode": {
    "name": "ipython",
    "version": 3
   },
   "file_extension": ".py",
   "mimetype": "text/x-python",
   "name": "python",
   "nbconvert_exporter": "python",
   "pygments_lexer": "ipython3",
   "version": "3.7.3"
  }
 },
 "nbformat": 4,
 "nbformat_minor": 4
}
