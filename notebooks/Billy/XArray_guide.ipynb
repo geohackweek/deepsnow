{
 "cells": [
  {
   "cell_type": "markdown",
   "metadata": {},
   "source": [
    "# X-Array cheatsheet"
   ]
  },
  {
   "cell_type": "markdown",
   "metadata": {},
   "source": [
    "To open a dataset or data-array directly through xarray:"
   ]
  },
  {
   "cell_type": "code",
   "execution_count": 1,
   "metadata": {},
   "outputs": [],
   "source": [
    "import xarray as xr"
   ]
  },
  {
   "cell_type": "code",
   "execution_count": 6,
   "metadata": {},
   "outputs": [],
   "source": [
    "ds = xr.open_dataset(\"../../../topo.nc\")"
   ]
  },
  {
   "cell_type": "markdown",
   "metadata": {},
   "source": [
    "### Viewing variables within dataset"
   ]
  },
  {
   "cell_type": "code",
   "execution_count": 14,
   "metadata": {},
   "outputs": [
    {
     "data": {
      "text/plain": [
       "Frozen(OrderedDict([('y', <xarray.IndexVariable 'y' (y: 17002)>\n",
       "array([4230327., 4230324., 4230321., ..., 4179330., 4179327., 4179324.],\n",
       "      dtype=float32)\n",
       "Attributes:\n",
       "    description:    UTM, north south\n",
       "    long_name:      y coordinate\n",
       "    units:          meters\n",
       "    standard_name:  projection_y_coordinate), ('x', <xarray.IndexVariable 'x' (x: 17569)>\n",
       "array([254007., 254010., 254013., ..., 306705., 306708., 306711.],\n",
       "      dtype=float32)\n",
       "Attributes:\n",
       "    description:    UTM, east west\n",
       "    long_name:      x coordinate\n",
       "    units:          meters\n",
       "    standard_name:  projection_x_coordinate), ('veg_height', <xarray.Variable (y: 17002, x: 17569)>\n",
       "[298708138 values with dtype=float32]\n",
       "Attributes:\n",
       "    long_name:     vegetation height\n",
       "    grid_mapping:  projection), ('veg_tau', <xarray.Variable (y: 17002, x: 17569)>\n",
       "[298708138 values with dtype=float32]\n",
       "Attributes:\n",
       "    long_name:     vegetation tau\n",
       "    grid_mapping:  projection), ('veg_k', <xarray.Variable (y: 17002, x: 17569)>\n",
       "[298708138 values with dtype=float32]\n",
       "Attributes:\n",
       "    long_name:     vegetation k\n",
       "    grid_mapping:  projection), ('veg_type', <xarray.Variable (y: 17002, x: 17569)>\n",
       "[298708138 values with dtype=uint32]\n",
       "Attributes:\n",
       "    long_name:     vegetation type\n",
       "    grid_mapping:  projection), ('dem', <xarray.Variable (y: 17002, x: 17569)>\n",
       "[298708138 values with dtype=float32]\n",
       "Attributes:\n",
       "    long_name:     dem\n",
       "    grid_mapping:  projection), ('mask', <xarray.Variable (y: 17002, x: 17569)>\n",
       "[298708138 values with dtype=uint8]\n",
       "Attributes:\n",
       "    long_name:     Tuolumne\n",
       "    grid_mapping:  projection), ('projection', <xarray.Variable ()>\n",
       "array(b'', dtype='|S1')\n",
       "Attributes:\n",
       "    spatial_ref:               PROJCS[\"WGS84/UTMzone11N\",\\nGEOGCS[\"WGS84\",\\nD...\n",
       "    utm_zone_number:           11.0\n",
       "    _CoordinateAxisTypes:      GeoX GeoY\n",
       "    semi_major_axis:           6378137.0\n",
       "    grid_mapping_name:         universal_transverse_mercator\n",
       "    inverse_flattening:        298.257223563\n",
       "    _CoordinateTransformType:  Projection)]))"
      ]
     },
     "execution_count": 14,
     "metadata": {},
     "output_type": "execute_result"
    }
   ],
   "source": [
    "ds.variables"
   ]
  },
  {
   "cell_type": "markdown",
   "metadata": {},
   "source": [
    "### Accessing individual data variables"
   ]
  },
  {
   "cell_type": "code",
   "execution_count": 15,
   "metadata": {},
   "outputs": [
    {
     "data": {
      "text/plain": [
       "<xarray.DataArray 'dem' (y: 17002, x: 17569)>\n",
       "[298708138 values with dtype=float32]\n",
       "Coordinates:\n",
       "  * y        (y) float32 4230327.0 4230324.0 4230321.0 ... 4179327.0 4179324.0\n",
       "  * x        (x) float32 254007.0 254010.0 254013.0 ... 306708.0 306711.0\n",
       "Attributes:\n",
       "    long_name:     dem\n",
       "    grid_mapping:  projection"
      ]
     },
     "execution_count": 15,
     "metadata": {},
     "output_type": "execute_result"
    }
   ],
   "source": [
    "ds.dem"
   ]
  },
  {
   "cell_type": "markdown",
   "metadata": {},
   "source": [
    "### Accessing just the values of a data variable"
   ]
  },
  {
   "cell_type": "code",
   "execution_count": 16,
   "metadata": {},
   "outputs": [
    {
     "data": {
      "text/plain": [
       "array([[2633.369 , 2635.3313, 2635.3313, ..., 2137.585 , 2137.585 ,\n",
       "        2137.6157],\n",
       "       [2633.369 , 2635.3313, 2635.3313, ..., 2137.585 , 2137.585 ,\n",
       "        2137.6157],\n",
       "       [2634.1025, 2637.2336, 2637.2336, ..., 2139.121 , 2139.121 ,\n",
       "        2138.9734],\n",
       "       ...,\n",
       "       [1585.9766, 1580.0369, 1580.0369, ..., 3063.1907, 3063.1907,\n",
       "        3062.4495],\n",
       "       [1585.9766, 1580.0369, 1580.0369, ..., 3063.1907, 3063.1907,\n",
       "        3062.4495],\n",
       "       [1587.6707, 1582.0449, 1582.0449, ..., 3064.8484, 3064.8484,\n",
       "        3064.3577]], dtype=float32)"
      ]
     },
     "execution_count": 16,
     "metadata": {},
     "output_type": "execute_result"
    }
   ],
   "source": [
    "ds.dem.values"
   ]
  },
  {
   "cell_type": "markdown",
   "metadata": {},
   "source": [
    "### To slice the data to select only a subset of the whole dataset"
   ]
  },
  {
   "cell_type": "code",
   "execution_count": 24,
   "metadata": {},
   "outputs": [],
   "source": [
    "a = ds.isel(x=0, y=0) # selects across each dimension by index value; does not work on individual values"
   ]
  },
  {
   "cell_type": "code",
   "execution_count": 47,
   "metadata": {},
   "outputs": [
    {
     "data": {
      "text/plain": [
       "<xarray.DataArray 'dem' (y: 17002, x: 17569)>\n",
       "array([[2633.369 , 2635.3313, 2635.3313, ..., 2137.585 , 2137.585 , 2137.6157],\n",
       "       [2633.369 , 2635.3313, 2635.3313, ..., 2137.585 , 2137.585 , 2137.6157],\n",
       "       [2634.1025, 2637.2336, 2637.2336, ..., 2139.121 , 2139.121 , 2138.9734],\n",
       "       ...,\n",
       "       [1585.9766, 1580.0369, 1580.0369, ..., 3063.1907, 3063.1907, 3062.4495],\n",
       "       [1585.9766, 1580.0369, 1580.0369, ..., 3063.1907, 3063.1907, 3062.4495],\n",
       "       [1587.6707, 1582.0449, 1582.0449, ..., 3064.8484, 3064.8484, 3064.3577]],\n",
       "      dtype=float32)\n",
       "Coordinates:\n",
       "  * y        (y) float32 4230327.0 4230324.0 4230321.0 ... 4179327.0 4179324.0\n",
       "  * x        (x) float32 254007.0 254010.0 254013.0 ... 306708.0 306711.0\n",
       "Attributes:\n",
       "    long_name:     dem\n",
       "    grid_mapping:  projection"
      ]
     },
     "execution_count": 47,
     "metadata": {},
     "output_type": "execute_result"
    }
   ],
   "source": [
    "dem_var = ds.dem # selects an individual value from a data varible\n",
    "dem_var"
   ]
  },
  {
   "cell_type": "markdown",
   "metadata": {},
   "source": [
    "**For this, slice by dimension first, then select the values you need from the variable you need**"
   ]
  },
  {
   "cell_type": "markdown",
   "metadata": {},
   "source": [
    "### Accessing coordinates and their values"
   ]
  },
  {
   "cell_type": "code",
   "execution_count": 44,
   "metadata": {},
   "outputs": [
    {
     "data": {
      "text/plain": [
       "Coordinates:\n",
       "  * y        (y) float32 4230327.0 4230324.0 4230321.0 ... 4179327.0 4179324.0\n",
       "  * x        (x) float32 254007.0 254010.0 254013.0 ... 306708.0 306711.0"
      ]
     },
     "execution_count": 44,
     "metadata": {},
     "output_type": "execute_result"
    }
   ],
   "source": [
    "ds.coords"
   ]
  },
  {
   "cell_type": "markdown",
   "metadata": {},
   "source": [
    "### Accessing metadata"
   ]
  },
  {
   "cell_type": "code",
   "execution_count": 46,
   "metadata": {},
   "outputs": [
    {
     "data": {
      "text/plain": [
       "OrderedDict([('last_modified', '[2019-08-08 17:17:16] Data added or updated'),\n",
       "             ('Conventions', 'CF-1.6'),\n",
       "             ('dateCreated', '2019-08-08 17:17:34'),\n",
       "             ('Title', 'Topographic Images for SMRF/AWSM'),\n",
       "             ('history',\n",
       "              '[2019-08-08 17:17:34] Create netCDF4 file using Basin Setup v0.8.2'),\n",
       "             ('institution',\n",
       "              'USDA Agricultural Research Service, Northwest Watershed Research Center'),\n",
       "             ('generation_command',\n",
       "              '/usr/local/bin/basin_setup -f corrected_tuolumne_subbasin.shp -bn Tuolumne -dm tuolumne_UTM11_WGS84.tif -apd 0 0 0 220 -d /Downloads --cell_size 3')])"
      ]
     },
     "execution_count": 46,
     "metadata": {},
     "output_type": "execute_result"
    }
   ],
   "source": [
    "ds.attrs"
   ]
  },
  {
   "cell_type": "markdown",
   "metadata": {},
   "source": [
    "### Slicing data variables across dimensions"
   ]
  },
  {
   "cell_type": "code",
   "execution_count": 49,
   "metadata": {},
   "outputs": [
    {
     "data": {
      "text/plain": [
       "<xarray.DataArray 'dem' (y: 500, x: 500)>\n",
       "array([[2633.369 , 2635.3313, 2635.3313, ..., 2591.5686, 2591.5686, 2591.5686],\n",
       "       [2633.369 , 2635.3313, 2635.3313, ..., 2591.5686, 2591.5686, 2591.5686],\n",
       "       [2634.1025, 2637.2336, 2637.2336, ..., 2591.5337, 2591.5337, 2591.5337],\n",
       "       ...,\n",
       "       [2724.1108, 2723.7507, 2723.7507, ..., 2525.5593, 2525.5593, 2525.5593],\n",
       "       [2724.1108, 2723.7507, 2723.7507, ..., 2525.5593, 2525.5593, 2525.5593],\n",
       "       [2723.1982, 2722.8303, 2722.8303, ..., 2529.1357, 2529.1357, 2529.1357]],\n",
       "      dtype=float32)\n",
       "Coordinates:\n",
       "  * y        (y) float32 4230327.0 4230324.0 4230321.0 ... 4228833.0 4228830.0\n",
       "  * x        (x) float32 254007.0 254010.0 254013.0 ... 255501.0 255504.0\n",
       "Attributes:\n",
       "    long_name:     dem\n",
       "    grid_mapping:  projection"
      ]
     },
     "execution_count": 49,
     "metadata": {},
     "output_type": "execute_result"
    }
   ],
   "source": [
    "dem_var.isel(x=slice(0,500), y=slice(0,500))"
   ]
  },
  {
   "cell_type": "markdown",
   "metadata": {},
   "source": [
    "* If you want to slice by label, use .sel instead of .isel"
   ]
  },
  {
   "cell_type": "code",
   "execution_count": 69,
   "metadata": {},
   "outputs": [
    {
     "data": {
      "text/plain": [
       "<xarray.DataArray 'dem' (y: 500, x: 500)>\n",
       "array([[2633.369 , 2635.3313, 2635.3313, ..., 2591.5686, 2591.5686, 2591.5686],\n",
       "       [2633.369 , 2635.3313, 2635.3313, ..., 2591.5686, 2591.5686, 2591.5686],\n",
       "       [2634.1025, 2637.2336, 2637.2336, ..., 2591.5337, 2591.5337, 2591.5337],\n",
       "       ...,\n",
       "       [2724.1108, 2723.7507, 2723.7507, ..., 2525.5593, 2525.5593, 2525.5593],\n",
       "       [2724.1108, 2723.7507, 2723.7507, ..., 2525.5593, 2525.5593, 2525.5593],\n",
       "       [2723.1982, 2722.8303, 2722.8303, ..., 2529.1357, 2529.1357, 2529.1357]],\n",
       "      dtype=float32)\n",
       "Coordinates:\n",
       "  * y        (y) float32 4230327.0 4230324.0 4230321.0 ... 4228833.0 4228830.0\n",
       "  * x        (x) float32 254007.0 254010.0 254013.0 ... 255501.0 255504.0\n",
       "Attributes:\n",
       "    long_name:     dem\n",
       "    grid_mapping:  projection"
      ]
     },
     "execution_count": 69,
     "metadata": {},
     "output_type": "execute_result"
    }
   ],
   "source": [
    "dem_var[:500, :500]"
   ]
  },
  {
   "cell_type": "markdown",
   "metadata": {},
   "source": [
    "* Note that both of these do the same thing"
   ]
  },
  {
   "cell_type": "markdown",
   "metadata": {},
   "source": [
    "### Reduction functions"
   ]
  },
  {
   "cell_type": "markdown",
   "metadata": {},
   "source": [
    "Mean:"
   ]
  },
  {
   "cell_type": "code",
   "execution_count": 58,
   "metadata": {},
   "outputs": [
    {
     "data": {
      "text/plain": [
       "<xarray.DataArray 'dem' (y: 500)>\n",
       "array([2669.386 , 2669.386 , 2669.398 , ..., 2569.0754, 2569.0754, 2568.481 ],\n",
       "      dtype=float32)\n",
       "Coordinates:\n",
       "  * y        (y) float32 4230327.0 4230324.0 4230321.0 ... 4228833.0 4228830.0"
      ]
     },
     "execution_count": 58,
     "metadata": {},
     "output_type": "execute_result"
    }
   ],
   "source": [
    "mean_x = dem_var.isel(x=slice(0,500), y=slice(0,500)).mean(dim='x')\n",
    "mean_x"
   ]
  },
  {
   "cell_type": "code",
   "execution_count": 59,
   "metadata": {},
   "outputs": [
    {
     "data": {
      "text/plain": [
       "<xarray.DataArray 'dem' (x: 500)>\n",
       "array([2672.5251, 2674.039 , 2674.039 , ..., 2512.8276, 2512.8276, 2512.8276],\n",
       "      dtype=float32)\n",
       "Coordinates:\n",
       "  * x        (x) float32 254007.0 254010.0 254013.0 ... 255501.0 255504.0"
      ]
     },
     "execution_count": 59,
     "metadata": {},
     "output_type": "execute_result"
    }
   ],
   "source": [
    "mean_y = dem_var.isel(x=slice(0,500), y=slice(0,500)).mean(dim='y')\n",
    "mean_y"
   ]
  },
  {
   "cell_type": "markdown",
   "metadata": {},
   "source": [
    "**Note: the dim argument is the dimension over which you want to perform the reduction function. It will go away in the output.**\n",
    "\n",
    "**Not providing an argument in mean() or std() will perform the operation over the entire dataset, outputting one value**"
   ]
  },
  {
   "cell_type": "code",
   "execution_count": 78,
   "metadata": {},
   "outputs": [
    {
     "data": {
      "text/plain": [
       "<xarray.DataArray 'dem' ()>\n",
       "array(2631.3975, dtype=float32)"
      ]
     },
     "execution_count": 78,
     "metadata": {},
     "output_type": "execute_result"
    }
   ],
   "source": [
    "mu = dem_var.isel(x=slice(0,500), y=slice(0,500)).mean()\n",
    "mu"
   ]
  },
  {
   "cell_type": "markdown",
   "metadata": {},
   "source": [
    "Standard deviation:"
   ]
  },
  {
   "cell_type": "code",
   "execution_count": 61,
   "metadata": {},
   "outputs": [
    {
     "data": {
      "text/plain": [
       "<xarray.DataArray 'dem' (y: 500)>\n",
       "array([ 28.342205,  28.342205,  28.163368, ..., 112.54608 , 112.54608 ,\n",
       "       112.47522 ], dtype=float32)\n",
       "Coordinates:\n",
       "  * y        (y) float32 4230327.0 4230324.0 4230321.0 ... 4228833.0 4228830.0"
      ]
     },
     "execution_count": 61,
     "metadata": {},
     "output_type": "execute_result"
    }
   ],
   "source": [
    "std_x = dem_var.isel(x=slice(0,500), y=slice(0,500)).std(dim='x')\n",
    "std_x"
   ]
  },
  {
   "cell_type": "code",
   "execution_count": 62,
   "metadata": {},
   "outputs": [
    {
     "data": {
      "text/plain": [
       "<xarray.DataArray 'dem' (x: 500)>\n",
       "array([41.53691, 40.75824, 40.75824, ..., 34.67409, 34.67409, 34.67409],\n",
       "      dtype=float32)\n",
       "Coordinates:\n",
       "  * x        (x) float32 254007.0 254010.0 254013.0 ... 255501.0 255504.0"
      ]
     },
     "execution_count": 62,
     "metadata": {},
     "output_type": "execute_result"
    }
   ],
   "source": [
    "std_y = dem_var.isel(x=slice(0,500), y=slice(0,500)).std(dim='y')\n",
    "std_y"
   ]
  },
  {
   "cell_type": "code",
   "execution_count": 80,
   "metadata": {},
   "outputs": [
    {
     "data": {
      "text/plain": [
       "<xarray.DataArray 'dem' ()>\n",
       "array(87.72577, dtype=float32)"
      ]
     },
     "execution_count": 80,
     "metadata": {},
     "output_type": "execute_result"
    }
   ],
   "source": [
    "sigma = dem_var.isel(x=slice(0,500), y=slice(0,500)).std()\n",
    "sigma"
   ]
  },
  {
   "cell_type": "markdown",
   "metadata": {},
   "source": [
    "### Operations on datasets"
   ]
  },
  {
   "cell_type": "code",
   "execution_count": 81,
   "metadata": {},
   "outputs": [
    {
     "data": {
      "text/plain": [
       "<xarray.DataArray 'dem' (y: 1, x: 17569)>\n",
       "array([[5266.738 , 5270.6626, 5270.6626, ..., 4275.17  , 4275.17  , 4275.2314]],\n",
       "      dtype=float32)\n",
       "Coordinates:\n",
       "  * y        (y) float32 4230327.0\n",
       "  * x        (x) float32 254007.0 254010.0 254013.0 ... 306708.0 306711.0"
      ]
     },
     "execution_count": 81,
     "metadata": {},
     "output_type": "execute_result"
    }
   ],
   "source": [
    "xr.apply_ufunc(lambda a, b: a * b, dem_var[:500 : 500], 2) # lambda allows one to use a function without defining it; only really useful for mathematical operations"
   ]
  },
  {
   "cell_type": "markdown",
   "metadata": {},
   "source": [
    "Code syntax:\n",
    "\n",
    "lambda arg1, arg2, ... , arg(n): function, assignment1, assignment2, ... , assignment(n)\n"
   ]
  },
  {
   "cell_type": "code",
   "execution_count": 88,
   "metadata": {},
   "outputs": [
    {
     "ename": "ValueError",
     "evalue": "operands could not be broadcast together with shapes (1,17569) (300,) ",
     "output_type": "error",
     "traceback": [
      "\u001b[0;31m---------------------------------------------------------------------------\u001b[0m",
      "\u001b[0;31mValueError\u001b[0m                                Traceback (most recent call last)",
      "\u001b[0;32m<ipython-input-88-74b3678383ea>\u001b[0m in \u001b[0;36m<module>\u001b[0;34m\u001b[0m\n\u001b[1;32m      1\u001b[0m \u001b[0;32mimport\u001b[0m \u001b[0mnumpy\u001b[0m\u001b[0;34m.\u001b[0m\u001b[0mrandom\u001b[0m \u001b[0;32mas\u001b[0m \u001b[0mrd\u001b[0m\u001b[0;34m\u001b[0m\u001b[0;34m\u001b[0m\u001b[0m\n\u001b[0;32m----> 2\u001b[0;31m \u001b[0mxr\u001b[0m\u001b[0;34m.\u001b[0m\u001b[0mapply_ufunc\u001b[0m\u001b[0;34m(\u001b[0m\u001b[0;32mlambda\u001b[0m \u001b[0ma\u001b[0m\u001b[0;34m,\u001b[0m \u001b[0mb\u001b[0m\u001b[0;34m:\u001b[0m \u001b[0ma\u001b[0m \u001b[0;34m+\u001b[0m \u001b[0mb\u001b[0m\u001b[0;34m,\u001b[0m \u001b[0mdem_var\u001b[0m\u001b[0;34m[\u001b[0m\u001b[0;34m:\u001b[0m\u001b[0;36m500\u001b[0m \u001b[0;34m:\u001b[0m \u001b[0;36m500\u001b[0m\u001b[0;34m]\u001b[0m\u001b[0;34m,\u001b[0m \u001b[0mrd\u001b[0m\u001b[0;34m.\u001b[0m\u001b[0mrand\u001b[0m\u001b[0;34m(\u001b[0m\u001b[0;36m300\u001b[0m\u001b[0;34m)\u001b[0m\u001b[0;34m)\u001b[0m \u001b[0;31m# doing this yields an error, as the dataset sizes aren't the same\u001b[0m\u001b[0;34m\u001b[0m\u001b[0;34m\u001b[0m\u001b[0m\n\u001b[0m",
      "\u001b[0;32m/srv/conda/envs/notebook/lib/python3.7/site-packages/xarray/core/computation.py\u001b[0m in \u001b[0;36mapply_ufunc\u001b[0;34m(func, input_core_dims, output_core_dims, exclude_dims, vectorize, join, dataset_join, dataset_fill_value, keep_attrs, kwargs, dask, output_dtypes, output_sizes, *args)\u001b[0m\n\u001b[1;32m    967\u001b[0m                                      \u001b[0mjoin\u001b[0m\u001b[0;34m=\u001b[0m\u001b[0mjoin\u001b[0m\u001b[0;34m,\u001b[0m\u001b[0;34m\u001b[0m\u001b[0;34m\u001b[0m\u001b[0m\n\u001b[1;32m    968\u001b[0m                                      \u001b[0mexclude_dims\u001b[0m\u001b[0;34m=\u001b[0m\u001b[0mexclude_dims\u001b[0m\u001b[0;34m,\u001b[0m\u001b[0;34m\u001b[0m\u001b[0;34m\u001b[0m\u001b[0m\n\u001b[0;32m--> 969\u001b[0;31m                                      keep_attrs=keep_attrs)\n\u001b[0m\u001b[1;32m    970\u001b[0m     \u001b[0;32melif\u001b[0m \u001b[0many\u001b[0m\u001b[0;34m(\u001b[0m\u001b[0misinstance\u001b[0m\u001b[0;34m(\u001b[0m\u001b[0ma\u001b[0m\u001b[0;34m,\u001b[0m \u001b[0mVariable\u001b[0m\u001b[0;34m)\u001b[0m \u001b[0;32mfor\u001b[0m \u001b[0ma\u001b[0m \u001b[0;32min\u001b[0m \u001b[0margs\u001b[0m\u001b[0;34m)\u001b[0m\u001b[0;34m:\u001b[0m\u001b[0;34m\u001b[0m\u001b[0;34m\u001b[0m\u001b[0m\n\u001b[1;32m    971\u001b[0m         \u001b[0;32mreturn\u001b[0m \u001b[0mvariables_vfunc\u001b[0m\u001b[0;34m(\u001b[0m\u001b[0;34m*\u001b[0m\u001b[0margs\u001b[0m\u001b[0;34m)\u001b[0m\u001b[0;34m\u001b[0m\u001b[0;34m\u001b[0m\u001b[0m\n",
      "\u001b[0;32m/srv/conda/envs/notebook/lib/python3.7/site-packages/xarray/core/computation.py\u001b[0m in \u001b[0;36mapply_dataarray_vfunc\u001b[0;34m(func, signature, join, exclude_dims, keep_attrs, *args)\u001b[0m\n\u001b[1;32m    215\u001b[0m \u001b[0;34m\u001b[0m\u001b[0m\n\u001b[1;32m    216\u001b[0m     \u001b[0mdata_vars\u001b[0m \u001b[0;34m=\u001b[0m \u001b[0;34m[\u001b[0m\u001b[0mgetattr\u001b[0m\u001b[0;34m(\u001b[0m\u001b[0ma\u001b[0m\u001b[0;34m,\u001b[0m \u001b[0;34m'variable'\u001b[0m\u001b[0;34m,\u001b[0m \u001b[0ma\u001b[0m\u001b[0;34m)\u001b[0m \u001b[0;32mfor\u001b[0m \u001b[0ma\u001b[0m \u001b[0;32min\u001b[0m \u001b[0margs\u001b[0m\u001b[0;34m]\u001b[0m\u001b[0;34m\u001b[0m\u001b[0;34m\u001b[0m\u001b[0m\n\u001b[0;32m--> 217\u001b[0;31m     \u001b[0mresult_var\u001b[0m \u001b[0;34m=\u001b[0m \u001b[0mfunc\u001b[0m\u001b[0;34m(\u001b[0m\u001b[0;34m*\u001b[0m\u001b[0mdata_vars\u001b[0m\u001b[0;34m)\u001b[0m\u001b[0;34m\u001b[0m\u001b[0;34m\u001b[0m\u001b[0m\n\u001b[0m\u001b[1;32m    218\u001b[0m \u001b[0;34m\u001b[0m\u001b[0m\n\u001b[1;32m    219\u001b[0m     \u001b[0;32mif\u001b[0m \u001b[0msignature\u001b[0m\u001b[0;34m.\u001b[0m\u001b[0mnum_outputs\u001b[0m \u001b[0;34m>\u001b[0m \u001b[0;36m1\u001b[0m\u001b[0;34m:\u001b[0m\u001b[0;34m\u001b[0m\u001b[0;34m\u001b[0m\u001b[0m\n",
      "\u001b[0;32m/srv/conda/envs/notebook/lib/python3.7/site-packages/xarray/core/computation.py\u001b[0m in \u001b[0;36mapply_variable_ufunc\u001b[0;34m(func, signature, exclude_dims, dask, output_dtypes, output_sizes, keep_attrs, *args)\u001b[0m\n\u001b[1;32m    562\u001b[0m             raise ValueError('unknown setting for dask array handling in '\n\u001b[1;32m    563\u001b[0m                              'apply_ufunc: {}'.format(dask))\n\u001b[0;32m--> 564\u001b[0;31m     \u001b[0mresult_data\u001b[0m \u001b[0;34m=\u001b[0m \u001b[0mfunc\u001b[0m\u001b[0;34m(\u001b[0m\u001b[0;34m*\u001b[0m\u001b[0minput_data\u001b[0m\u001b[0;34m)\u001b[0m\u001b[0;34m\u001b[0m\u001b[0;34m\u001b[0m\u001b[0m\n\u001b[0m\u001b[1;32m    565\u001b[0m \u001b[0;34m\u001b[0m\u001b[0m\n\u001b[1;32m    566\u001b[0m     \u001b[0;32mif\u001b[0m \u001b[0msignature\u001b[0m\u001b[0;34m.\u001b[0m\u001b[0mnum_outputs\u001b[0m \u001b[0;34m==\u001b[0m \u001b[0;36m1\u001b[0m\u001b[0;34m:\u001b[0m\u001b[0;34m\u001b[0m\u001b[0;34m\u001b[0m\u001b[0m\n",
      "\u001b[0;32m<ipython-input-88-74b3678383ea>\u001b[0m in \u001b[0;36m<lambda>\u001b[0;34m(a, b)\u001b[0m\n\u001b[1;32m      1\u001b[0m \u001b[0;32mimport\u001b[0m \u001b[0mnumpy\u001b[0m\u001b[0;34m.\u001b[0m\u001b[0mrandom\u001b[0m \u001b[0;32mas\u001b[0m \u001b[0mrd\u001b[0m\u001b[0;34m\u001b[0m\u001b[0;34m\u001b[0m\u001b[0m\n\u001b[0;32m----> 2\u001b[0;31m \u001b[0mxr\u001b[0m\u001b[0;34m.\u001b[0m\u001b[0mapply_ufunc\u001b[0m\u001b[0;34m(\u001b[0m\u001b[0;32mlambda\u001b[0m \u001b[0ma\u001b[0m\u001b[0;34m,\u001b[0m \u001b[0mb\u001b[0m\u001b[0;34m:\u001b[0m \u001b[0ma\u001b[0m \u001b[0;34m+\u001b[0m \u001b[0mb\u001b[0m\u001b[0;34m,\u001b[0m \u001b[0mdem_var\u001b[0m\u001b[0;34m[\u001b[0m\u001b[0;34m:\u001b[0m\u001b[0;36m500\u001b[0m \u001b[0;34m:\u001b[0m \u001b[0;36m500\u001b[0m\u001b[0;34m]\u001b[0m\u001b[0;34m,\u001b[0m \u001b[0mrd\u001b[0m\u001b[0;34m.\u001b[0m\u001b[0mrand\u001b[0m\u001b[0;34m(\u001b[0m\u001b[0;36m300\u001b[0m\u001b[0;34m)\u001b[0m\u001b[0;34m)\u001b[0m \u001b[0;31m# doing this yields an error, as the dataset sizes aren't the same\u001b[0m\u001b[0;34m\u001b[0m\u001b[0;34m\u001b[0m\u001b[0m\n\u001b[0m",
      "\u001b[0;31mValueError\u001b[0m: operands could not be broadcast together with shapes (1,17569) (300,) "
     ]
    }
   ],
   "source": [
    "import numpy.random as rd\n",
    "xr.apply_ufunc(lambda a, b: a + b, dem_var[:500 : 500], rd.rand(300)) # doing this yields an error, as the dataset sizes aren't the same"
   ]
  },
  {
   "cell_type": "markdown",
   "metadata": {},
   "source": [
    "### Grouping across common variable"
   ]
  },
  {
   "cell_type": "markdown",
   "metadata": {},
   "source": [
    "If you have time series data and want to group across a similar month, day, etc. in each year, use the .groupby() function to sort the whole array by the specified variable."
   ]
  },
  {
   "cell_type": "raw",
   "metadata": {},
   "source": [
    "heights.groupby('time.month').groups #shows which indices fit into each month bin"
   ]
  },
  {
   "cell_type": "raw",
   "metadata": {},
   "source": [
    "{1: [11, 23, 35, 47, 59, 71, 83, 95, 107, 119, 131, 143, 155, 167, 179, 191, 203, 215, 227, 239],\n",
    " 2: [0, 12, 24, 36, 48, 60, 72, 84, 96, 108, 120, 132, 144, 156, 168, 180, 192, 204, 216, 228],\n",
    " 3: [1, 13, 25, 37, 49, 61, 73, 85, 97, 109, 121, 133, 145, 157, 169, 181, 193, 205, 217, 229],\n",
    " 4: [2, 14, 26, 38, 50, 62, 74, 86, 98, 110, 122, 134, 146, 158, 170, 182, 194, 206, 218, 230],\n",
    " 5: [3, 15, 27, 39, 51, 63, 75, 87, 99, 111, 123, 135, 147, 159, 171, 183, 195, 207, 219, 231],\n",
    " 6: [4, 16, 28, 40, 52, 64, 76, 88, 100, 112, 124, 136, 148, 160, 172, 184, 196, 208, 220, 232],\n",
    " 7: [5, 17, 29, 41, 53, 65, 77, 89, 101, 113, 125, 137, 149, 161, 173, 185, 197, 209, 221, 233],\n",
    " 8: [6, 18, 30, 42, 54, 66, 78, 90, 102, 114, 126, 138, 150, 162, 174, 186, 198, 210, 222, 234],\n",
    " 9: [7, 19, 31, 43, 55, 67, 79, 91, 103, 115, 127, 139, 151, 163, 175, 187, 199, 211, 223, 235],\n",
    " 10: [8, 20, 32, 44, 56, 68, 80, 92, 104, 116, 128, 140, 152, 164, 176, 188, 200, 212, 224, 236],\n",
    " 11: [9, 21, 33, 45, 57, 69, 81, 93, 105, 117, 129, 141, 153, 165, 177, 189, 201, 213, 225, 237],\n",
    " 12: [10, 22, 34, 46, 58, 70, 82, 94, 106, 118, 130, 142, 154, 166, 178, 190, 202, 214, 226, 238]}"
   ]
  },
  {
   "cell_type": "markdown",
   "metadata": {},
   "source": [
    "Combining groupby() with reduction functions is a great way to generate statistics over a time series:"
   ]
  },
  {
   "cell_type": "raw",
   "metadata": {},
   "source": [
    "heights.groupby('time.month').mean('time')"
   ]
  },
  {
   "cell_type": "raw",
   "metadata": {},
   "source": [
    "<xarray.DataArray 'Z3pres' (month: 12, lev_p: 2, lat: 96, lon: 144)>\n",
    "array([[[[5013.35   , ..., 5013.35   ],\n",
    "         ...,\n",
    "         [5104.298  , ..., 5104.298  ]],\n",
    "\n",
    "        [[       nan, ...,        nan],\n",
    "         ...,\n",
    "         [ 147.98604, ...,  147.98604]]],\n",
    "\n",
    "\n",
    "       ...,\n",
    "\n",
    "\n",
    "       [[[4939.5913 , ..., 4939.5913 ],\n",
    "         ...,\n",
    "         [5141.206  , ..., 5141.206  ]],\n",
    "\n",
    "        [[       nan, ...,        nan],\n",
    "         ...,\n",
    "         [ 126.62694, ...,  126.62694]]]], dtype=float32)\n",
    "Coordinates:\n",
    "  * lat      (lat) float64 -90.0 -88.11 -86.21 -84.32 ... 84.32 86.21 88.11 90.0\n",
    "  * lon      (lon) float64 0.0 2.5 5.0 7.5 10.0 ... 350.0 352.5 355.0 357.5\n",
    "  * lev_p    (lev_p) float32 500.0 1000.0\n",
    "  * month    (month) int64 1 2 3 4 5 6 7 8 9 10 11 12"
   ]
  },
  {
   "cell_type": "markdown",
   "metadata": {},
   "source": [
    "**I know this worked because 'months' is now only 12 values (it started with 240)**"
   ]
  },
  {
   "cell_type": "code",
   "execution_count": null,
   "metadata": {},
   "outputs": [],
   "source": []
  }
 ],
 "metadata": {
  "kernelspec": {
   "display_name": "Python 3",
   "language": "python",
   "name": "python3"
  },
  "language_info": {
   "codemirror_mode": {
    "name": "ipython",
    "version": 3
   },
   "file_extension": ".py",
   "mimetype": "text/x-python",
   "name": "python",
   "nbconvert_exporter": "python",
   "pygments_lexer": "ipython3",
   "version": "3.7.3"
  }
 },
 "nbformat": 4,
 "nbformat_minor": 4
}
